{
  "nbformat": 4,
  "nbformat_minor": 0,
  "metadata": {
    "colab": {
      "provenance": [],
      "gpuType": "T4",
      "include_colab_link": true
    },
    "kernelspec": {
      "name": "python3",
      "display_name": "Python 3"
    },
    "language_info": {
      "name": "python"
    },
    "accelerator": "GPU",
    "gpuClass": "standard",
    "widgets": {
      "application/vnd.jupyter.widget-state+json": {
        "0b7ea786a2ef4f3eae90be74bcb0998c": {
          "model_module": "@jupyter-widgets/controls",
          "model_name": "HBoxModel",
          "model_module_version": "1.5.0",
          "state": {
            "_dom_classes": [],
            "_model_module": "@jupyter-widgets/controls",
            "_model_module_version": "1.5.0",
            "_model_name": "HBoxModel",
            "_view_count": null,
            "_view_module": "@jupyter-widgets/controls",
            "_view_module_version": "1.5.0",
            "_view_name": "HBoxView",
            "box_style": "",
            "children": [
              "IPY_MODEL_0e403dc083454aceb22d76c18d35d81f",
              "IPY_MODEL_274e435a0d5e4eed99091a5d80d6264d",
              "IPY_MODEL_d7ee669360f14b58b4594bbf6d63dde3"
            ],
            "layout": "IPY_MODEL_f214bf749bd74f4eab31c4072d2d2f38"
          }
        },
        "0e403dc083454aceb22d76c18d35d81f": {
          "model_module": "@jupyter-widgets/controls",
          "model_name": "HTMLModel",
          "model_module_version": "1.5.0",
          "state": {
            "_dom_classes": [],
            "_model_module": "@jupyter-widgets/controls",
            "_model_module_version": "1.5.0",
            "_model_name": "HTMLModel",
            "_view_count": null,
            "_view_module": "@jupyter-widgets/controls",
            "_view_module_version": "1.5.0",
            "_view_name": "HTMLView",
            "description": "",
            "description_tooltip": null,
            "layout": "IPY_MODEL_34f567ab0e6749ccb1de4adcf33c14b7",
            "placeholder": "​",
            "style": "IPY_MODEL_a2bffddf0d204c2aa23e50930330ab1f",
            "value": "100%"
          }
        },
        "274e435a0d5e4eed99091a5d80d6264d": {
          "model_module": "@jupyter-widgets/controls",
          "model_name": "FloatProgressModel",
          "model_module_version": "1.5.0",
          "state": {
            "_dom_classes": [],
            "_model_module": "@jupyter-widgets/controls",
            "_model_module_version": "1.5.0",
            "_model_name": "FloatProgressModel",
            "_view_count": null,
            "_view_module": "@jupyter-widgets/controls",
            "_view_module_version": "1.5.0",
            "_view_name": "ProgressView",
            "bar_style": "success",
            "description": "",
            "description_tooltip": null,
            "layout": "IPY_MODEL_88330a94cab742d6a34f002d192cbd8d",
            "max": 1776048343,
            "min": 0,
            "orientation": "horizontal",
            "style": "IPY_MODEL_b91aff39ef1e438faff6851b39dc67a5",
            "value": 1776048343
          }
        },
        "d7ee669360f14b58b4594bbf6d63dde3": {
          "model_module": "@jupyter-widgets/controls",
          "model_name": "HTMLModel",
          "model_module_version": "1.5.0",
          "state": {
            "_dom_classes": [],
            "_model_module": "@jupyter-widgets/controls",
            "_model_module_version": "1.5.0",
            "_model_name": "HTMLModel",
            "_view_count": null,
            "_view_module": "@jupyter-widgets/controls",
            "_view_module_version": "1.5.0",
            "_view_name": "HTMLView",
            "description": "",
            "description_tooltip": null,
            "layout": "IPY_MODEL_7837dd8773c84646864417b489a2abf7",
            "placeholder": "​",
            "style": "IPY_MODEL_0d682c6da6e748cc86c86477fece9b1e",
            "value": " 1.78G/1.78G [01:20&lt;00:00, 22.5MiB/s]"
          }
        },
        "f214bf749bd74f4eab31c4072d2d2f38": {
          "model_module": "@jupyter-widgets/base",
          "model_name": "LayoutModel",
          "model_module_version": "1.2.0",
          "state": {
            "_model_module": "@jupyter-widgets/base",
            "_model_module_version": "1.2.0",
            "_model_name": "LayoutModel",
            "_view_count": null,
            "_view_module": "@jupyter-widgets/base",
            "_view_module_version": "1.2.0",
            "_view_name": "LayoutView",
            "align_content": null,
            "align_items": null,
            "align_self": null,
            "border": null,
            "bottom": null,
            "display": null,
            "flex": null,
            "flex_flow": null,
            "grid_area": null,
            "grid_auto_columns": null,
            "grid_auto_flow": null,
            "grid_auto_rows": null,
            "grid_column": null,
            "grid_gap": null,
            "grid_row": null,
            "grid_template_areas": null,
            "grid_template_columns": null,
            "grid_template_rows": null,
            "height": null,
            "justify_content": null,
            "justify_items": null,
            "left": null,
            "margin": null,
            "max_height": null,
            "max_width": null,
            "min_height": null,
            "min_width": null,
            "object_fit": null,
            "object_position": null,
            "order": null,
            "overflow": null,
            "overflow_x": null,
            "overflow_y": null,
            "padding": null,
            "right": null,
            "top": null,
            "visibility": null,
            "width": null
          }
        },
        "34f567ab0e6749ccb1de4adcf33c14b7": {
          "model_module": "@jupyter-widgets/base",
          "model_name": "LayoutModel",
          "model_module_version": "1.2.0",
          "state": {
            "_model_module": "@jupyter-widgets/base",
            "_model_module_version": "1.2.0",
            "_model_name": "LayoutModel",
            "_view_count": null,
            "_view_module": "@jupyter-widgets/base",
            "_view_module_version": "1.2.0",
            "_view_name": "LayoutView",
            "align_content": null,
            "align_items": null,
            "align_self": null,
            "border": null,
            "bottom": null,
            "display": null,
            "flex": null,
            "flex_flow": null,
            "grid_area": null,
            "grid_auto_columns": null,
            "grid_auto_flow": null,
            "grid_auto_rows": null,
            "grid_column": null,
            "grid_gap": null,
            "grid_row": null,
            "grid_template_areas": null,
            "grid_template_columns": null,
            "grid_template_rows": null,
            "height": null,
            "justify_content": null,
            "justify_items": null,
            "left": null,
            "margin": null,
            "max_height": null,
            "max_width": null,
            "min_height": null,
            "min_width": null,
            "object_fit": null,
            "object_position": null,
            "order": null,
            "overflow": null,
            "overflow_x": null,
            "overflow_y": null,
            "padding": null,
            "right": null,
            "top": null,
            "visibility": null,
            "width": null
          }
        },
        "a2bffddf0d204c2aa23e50930330ab1f": {
          "model_module": "@jupyter-widgets/controls",
          "model_name": "DescriptionStyleModel",
          "model_module_version": "1.5.0",
          "state": {
            "_model_module": "@jupyter-widgets/controls",
            "_model_module_version": "1.5.0",
            "_model_name": "DescriptionStyleModel",
            "_view_count": null,
            "_view_module": "@jupyter-widgets/base",
            "_view_module_version": "1.2.0",
            "_view_name": "StyleView",
            "description_width": ""
          }
        },
        "88330a94cab742d6a34f002d192cbd8d": {
          "model_module": "@jupyter-widgets/base",
          "model_name": "LayoutModel",
          "model_module_version": "1.2.0",
          "state": {
            "_model_module": "@jupyter-widgets/base",
            "_model_module_version": "1.2.0",
            "_model_name": "LayoutModel",
            "_view_count": null,
            "_view_module": "@jupyter-widgets/base",
            "_view_module_version": "1.2.0",
            "_view_name": "LayoutView",
            "align_content": null,
            "align_items": null,
            "align_self": null,
            "border": null,
            "bottom": null,
            "display": null,
            "flex": null,
            "flex_flow": null,
            "grid_area": null,
            "grid_auto_columns": null,
            "grid_auto_flow": null,
            "grid_auto_rows": null,
            "grid_column": null,
            "grid_gap": null,
            "grid_row": null,
            "grid_template_areas": null,
            "grid_template_columns": null,
            "grid_template_rows": null,
            "height": null,
            "justify_content": null,
            "justify_items": null,
            "left": null,
            "margin": null,
            "max_height": null,
            "max_width": null,
            "min_height": null,
            "min_width": null,
            "object_fit": null,
            "object_position": null,
            "order": null,
            "overflow": null,
            "overflow_x": null,
            "overflow_y": null,
            "padding": null,
            "right": null,
            "top": null,
            "visibility": null,
            "width": null
          }
        },
        "b91aff39ef1e438faff6851b39dc67a5": {
          "model_module": "@jupyter-widgets/controls",
          "model_name": "ProgressStyleModel",
          "model_module_version": "1.5.0",
          "state": {
            "_model_module": "@jupyter-widgets/controls",
            "_model_module_version": "1.5.0",
            "_model_name": "ProgressStyleModel",
            "_view_count": null,
            "_view_module": "@jupyter-widgets/base",
            "_view_module_version": "1.2.0",
            "_view_name": "StyleView",
            "bar_color": null,
            "description_width": ""
          }
        },
        "7837dd8773c84646864417b489a2abf7": {
          "model_module": "@jupyter-widgets/base",
          "model_name": "LayoutModel",
          "model_module_version": "1.2.0",
          "state": {
            "_model_module": "@jupyter-widgets/base",
            "_model_module_version": "1.2.0",
            "_model_name": "LayoutModel",
            "_view_count": null,
            "_view_module": "@jupyter-widgets/base",
            "_view_module_version": "1.2.0",
            "_view_name": "LayoutView",
            "align_content": null,
            "align_items": null,
            "align_self": null,
            "border": null,
            "bottom": null,
            "display": null,
            "flex": null,
            "flex_flow": null,
            "grid_area": null,
            "grid_auto_columns": null,
            "grid_auto_flow": null,
            "grid_auto_rows": null,
            "grid_column": null,
            "grid_gap": null,
            "grid_row": null,
            "grid_template_areas": null,
            "grid_template_columns": null,
            "grid_template_rows": null,
            "height": null,
            "justify_content": null,
            "justify_items": null,
            "left": null,
            "margin": null,
            "max_height": null,
            "max_width": null,
            "min_height": null,
            "min_width": null,
            "object_fit": null,
            "object_position": null,
            "order": null,
            "overflow": null,
            "overflow_x": null,
            "overflow_y": null,
            "padding": null,
            "right": null,
            "top": null,
            "visibility": null,
            "width": null
          }
        },
        "0d682c6da6e748cc86c86477fece9b1e": {
          "model_module": "@jupyter-widgets/controls",
          "model_name": "DescriptionStyleModel",
          "model_module_version": "1.5.0",
          "state": {
            "_model_module": "@jupyter-widgets/controls",
            "_model_module_version": "1.5.0",
            "_model_name": "DescriptionStyleModel",
            "_view_count": null,
            "_view_module": "@jupyter-widgets/base",
            "_view_module_version": "1.2.0",
            "_view_name": "StyleView",
            "description_width": ""
          }
        },
        "727d082c545649ae931bb568219a8f42": {
          "model_module": "@jupyter-widgets/controls",
          "model_name": "HBoxModel",
          "model_module_version": "1.5.0",
          "state": {
            "_dom_classes": [],
            "_model_module": "@jupyter-widgets/controls",
            "_model_module_version": "1.5.0",
            "_model_name": "HBoxModel",
            "_view_count": null,
            "_view_module": "@jupyter-widgets/controls",
            "_view_module_version": "1.5.0",
            "_view_name": "HBoxView",
            "box_style": "",
            "children": [
              "IPY_MODEL_bafab6af85ed4fc491f724474f24e004",
              "IPY_MODEL_a1543eed9dee4dd59923931e994bf49f",
              "IPY_MODEL_7df124fd91d14df7a2f2d00c44bd6a76"
            ],
            "layout": "IPY_MODEL_711f661fc4644f4f86fdca487a7c3f8f"
          }
        },
        "bafab6af85ed4fc491f724474f24e004": {
          "model_module": "@jupyter-widgets/controls",
          "model_name": "HTMLModel",
          "model_module_version": "1.5.0",
          "state": {
            "_dom_classes": [],
            "_model_module": "@jupyter-widgets/controls",
            "_model_module_version": "1.5.0",
            "_model_name": "HTMLModel",
            "_view_count": null,
            "_view_module": "@jupyter-widgets/controls",
            "_view_module_version": "1.5.0",
            "_view_name": "HTMLView",
            "description": "",
            "description_tooltip": null,
            "layout": "IPY_MODEL_547ce31f78a447028c97a4bb96c53be3",
            "placeholder": "​",
            "style": "IPY_MODEL_203215db7cb04f8bb546d6c9f06fff5a",
            "value": "100%"
          }
        },
        "a1543eed9dee4dd59923931e994bf49f": {
          "model_module": "@jupyter-widgets/controls",
          "model_name": "FloatProgressModel",
          "model_module_version": "1.5.0",
          "state": {
            "_dom_classes": [],
            "_model_module": "@jupyter-widgets/controls",
            "_model_module_version": "1.5.0",
            "_model_name": "FloatProgressModel",
            "_view_count": null,
            "_view_module": "@jupyter-widgets/controls",
            "_view_module_version": "1.5.0",
            "_view_name": "ProgressView",
            "bar_style": "success",
            "description": "",
            "description_tooltip": null,
            "layout": "IPY_MODEL_8fb3d6dd3fca4861ab91dd5c684999a3",
            "max": 1263925407,
            "min": 0,
            "orientation": "horizontal",
            "style": "IPY_MODEL_2c5e2ed272e04a4fad5d1e2735fb917c",
            "value": 1263925407
          }
        },
        "7df124fd91d14df7a2f2d00c44bd6a76": {
          "model_module": "@jupyter-widgets/controls",
          "model_name": "HTMLModel",
          "model_module_version": "1.5.0",
          "state": {
            "_dom_classes": [],
            "_model_module": "@jupyter-widgets/controls",
            "_model_module_version": "1.5.0",
            "_model_name": "HTMLModel",
            "_view_count": null,
            "_view_module": "@jupyter-widgets/controls",
            "_view_module_version": "1.5.0",
            "_view_name": "HTMLView",
            "description": "",
            "description_tooltip": null,
            "layout": "IPY_MODEL_fbe85a74b5e44e19ae650a1d4c820c1e",
            "placeholder": "​",
            "style": "IPY_MODEL_ef1ae409cd5e46e8a878636042f5dc13",
            "value": " 1.26G/1.26G [01:01&lt;00:00, 22.0MiB/s]"
          }
        },
        "711f661fc4644f4f86fdca487a7c3f8f": {
          "model_module": "@jupyter-widgets/base",
          "model_name": "LayoutModel",
          "model_module_version": "1.2.0",
          "state": {
            "_model_module": "@jupyter-widgets/base",
            "_model_module_version": "1.2.0",
            "_model_name": "LayoutModel",
            "_view_count": null,
            "_view_module": "@jupyter-widgets/base",
            "_view_module_version": "1.2.0",
            "_view_name": "LayoutView",
            "align_content": null,
            "align_items": null,
            "align_self": null,
            "border": null,
            "bottom": null,
            "display": null,
            "flex": null,
            "flex_flow": null,
            "grid_area": null,
            "grid_auto_columns": null,
            "grid_auto_flow": null,
            "grid_auto_rows": null,
            "grid_column": null,
            "grid_gap": null,
            "grid_row": null,
            "grid_template_areas": null,
            "grid_template_columns": null,
            "grid_template_rows": null,
            "height": null,
            "justify_content": null,
            "justify_items": null,
            "left": null,
            "margin": null,
            "max_height": null,
            "max_width": null,
            "min_height": null,
            "min_width": null,
            "object_fit": null,
            "object_position": null,
            "order": null,
            "overflow": null,
            "overflow_x": null,
            "overflow_y": null,
            "padding": null,
            "right": null,
            "top": null,
            "visibility": null,
            "width": null
          }
        },
        "547ce31f78a447028c97a4bb96c53be3": {
          "model_module": "@jupyter-widgets/base",
          "model_name": "LayoutModel",
          "model_module_version": "1.2.0",
          "state": {
            "_model_module": "@jupyter-widgets/base",
            "_model_module_version": "1.2.0",
            "_model_name": "LayoutModel",
            "_view_count": null,
            "_view_module": "@jupyter-widgets/base",
            "_view_module_version": "1.2.0",
            "_view_name": "LayoutView",
            "align_content": null,
            "align_items": null,
            "align_self": null,
            "border": null,
            "bottom": null,
            "display": null,
            "flex": null,
            "flex_flow": null,
            "grid_area": null,
            "grid_auto_columns": null,
            "grid_auto_flow": null,
            "grid_auto_rows": null,
            "grid_column": null,
            "grid_gap": null,
            "grid_row": null,
            "grid_template_areas": null,
            "grid_template_columns": null,
            "grid_template_rows": null,
            "height": null,
            "justify_content": null,
            "justify_items": null,
            "left": null,
            "margin": null,
            "max_height": null,
            "max_width": null,
            "min_height": null,
            "min_width": null,
            "object_fit": null,
            "object_position": null,
            "order": null,
            "overflow": null,
            "overflow_x": null,
            "overflow_y": null,
            "padding": null,
            "right": null,
            "top": null,
            "visibility": null,
            "width": null
          }
        },
        "203215db7cb04f8bb546d6c9f06fff5a": {
          "model_module": "@jupyter-widgets/controls",
          "model_name": "DescriptionStyleModel",
          "model_module_version": "1.5.0",
          "state": {
            "_model_module": "@jupyter-widgets/controls",
            "_model_module_version": "1.5.0",
            "_model_name": "DescriptionStyleModel",
            "_view_count": null,
            "_view_module": "@jupyter-widgets/base",
            "_view_module_version": "1.2.0",
            "_view_name": "StyleView",
            "description_width": ""
          }
        },
        "8fb3d6dd3fca4861ab91dd5c684999a3": {
          "model_module": "@jupyter-widgets/base",
          "model_name": "LayoutModel",
          "model_module_version": "1.2.0",
          "state": {
            "_model_module": "@jupyter-widgets/base",
            "_model_module_version": "1.2.0",
            "_model_name": "LayoutModel",
            "_view_count": null,
            "_view_module": "@jupyter-widgets/base",
            "_view_module_version": "1.2.0",
            "_view_name": "LayoutView",
            "align_content": null,
            "align_items": null,
            "align_self": null,
            "border": null,
            "bottom": null,
            "display": null,
            "flex": null,
            "flex_flow": null,
            "grid_area": null,
            "grid_auto_columns": null,
            "grid_auto_flow": null,
            "grid_auto_rows": null,
            "grid_column": null,
            "grid_gap": null,
            "grid_row": null,
            "grid_template_areas": null,
            "grid_template_columns": null,
            "grid_template_rows": null,
            "height": null,
            "justify_content": null,
            "justify_items": null,
            "left": null,
            "margin": null,
            "max_height": null,
            "max_width": null,
            "min_height": null,
            "min_width": null,
            "object_fit": null,
            "object_position": null,
            "order": null,
            "overflow": null,
            "overflow_x": null,
            "overflow_y": null,
            "padding": null,
            "right": null,
            "top": null,
            "visibility": null,
            "width": null
          }
        },
        "2c5e2ed272e04a4fad5d1e2735fb917c": {
          "model_module": "@jupyter-widgets/controls",
          "model_name": "ProgressStyleModel",
          "model_module_version": "1.5.0",
          "state": {
            "_model_module": "@jupyter-widgets/controls",
            "_model_module_version": "1.5.0",
            "_model_name": "ProgressStyleModel",
            "_view_count": null,
            "_view_module": "@jupyter-widgets/base",
            "_view_module_version": "1.2.0",
            "_view_name": "StyleView",
            "bar_color": null,
            "description_width": ""
          }
        },
        "fbe85a74b5e44e19ae650a1d4c820c1e": {
          "model_module": "@jupyter-widgets/base",
          "model_name": "LayoutModel",
          "model_module_version": "1.2.0",
          "state": {
            "_model_module": "@jupyter-widgets/base",
            "_model_module_version": "1.2.0",
            "_model_name": "LayoutModel",
            "_view_count": null,
            "_view_module": "@jupyter-widgets/base",
            "_view_module_version": "1.2.0",
            "_view_name": "LayoutView",
            "align_content": null,
            "align_items": null,
            "align_self": null,
            "border": null,
            "bottom": null,
            "display": null,
            "flex": null,
            "flex_flow": null,
            "grid_area": null,
            "grid_auto_columns": null,
            "grid_auto_flow": null,
            "grid_auto_rows": null,
            "grid_column": null,
            "grid_gap": null,
            "grid_row": null,
            "grid_template_areas": null,
            "grid_template_columns": null,
            "grid_template_rows": null,
            "height": null,
            "justify_content": null,
            "justify_items": null,
            "left": null,
            "margin": null,
            "max_height": null,
            "max_width": null,
            "min_height": null,
            "min_width": null,
            "object_fit": null,
            "object_position": null,
            "order": null,
            "overflow": null,
            "overflow_x": null,
            "overflow_y": null,
            "padding": null,
            "right": null,
            "top": null,
            "visibility": null,
            "width": null
          }
        },
        "ef1ae409cd5e46e8a878636042f5dc13": {
          "model_module": "@jupyter-widgets/controls",
          "model_name": "DescriptionStyleModel",
          "model_module_version": "1.5.0",
          "state": {
            "_model_module": "@jupyter-widgets/controls",
            "_model_module_version": "1.5.0",
            "_model_name": "DescriptionStyleModel",
            "_view_count": null,
            "_view_module": "@jupyter-widgets/base",
            "_view_module_version": "1.2.0",
            "_view_name": "StyleView",
            "description_width": ""
          }
        },
        "3b5d13bc3b104ebfb9bb644389fd6399": {
          "model_module": "@jupyter-widgets/controls",
          "model_name": "HBoxModel",
          "model_module_version": "1.5.0",
          "state": {
            "_dom_classes": [],
            "_model_module": "@jupyter-widgets/controls",
            "_model_module_version": "1.5.0",
            "_model_name": "HBoxModel",
            "_view_count": null,
            "_view_module": "@jupyter-widgets/controls",
            "_view_module_version": "1.5.0",
            "_view_name": "HBoxView",
            "box_style": "",
            "children": [
              "IPY_MODEL_91b26ce0d0694b68b4218127eefeb6da",
              "IPY_MODEL_3caa5ada4de24c2897b7d21b7f21019c",
              "IPY_MODEL_71d45a9f91384914829001ad107ad60f"
            ],
            "layout": "IPY_MODEL_6d37d9dba8014345853de01a50dc80e8"
          }
        },
        "91b26ce0d0694b68b4218127eefeb6da": {
          "model_module": "@jupyter-widgets/controls",
          "model_name": "HTMLModel",
          "model_module_version": "1.5.0",
          "state": {
            "_dom_classes": [],
            "_model_module": "@jupyter-widgets/controls",
            "_model_module_version": "1.5.0",
            "_model_name": "HTMLModel",
            "_view_count": null,
            "_view_module": "@jupyter-widgets/controls",
            "_view_module_version": "1.5.0",
            "_view_name": "HTMLView",
            "description": "",
            "description_tooltip": null,
            "layout": "IPY_MODEL_b95559a311894ecdb63ac5de90d3ab5b",
            "placeholder": "​",
            "style": "IPY_MODEL_1b0d296440254f199ae5b90453706c1b",
            "value": "100%"
          }
        },
        "3caa5ada4de24c2897b7d21b7f21019c": {
          "model_module": "@jupyter-widgets/controls",
          "model_name": "FloatProgressModel",
          "model_module_version": "1.5.0",
          "state": {
            "_dom_classes": [],
            "_model_module": "@jupyter-widgets/controls",
            "_model_module_version": "1.5.0",
            "_model_name": "FloatProgressModel",
            "_view_count": null,
            "_view_module": "@jupyter-widgets/controls",
            "_view_module_version": "1.5.0",
            "_view_name": "ProgressView",
            "bar_style": "success",
            "description": "",
            "description_tooltip": null,
            "layout": "IPY_MODEL_8d6f03ff7ad0491387f3fe77f0beb92c",
            "max": 64,
            "min": 0,
            "orientation": "horizontal",
            "style": "IPY_MODEL_bf76a4351bc046289a22379a5a6c02a6",
            "value": 64
          }
        },
        "71d45a9f91384914829001ad107ad60f": {
          "model_module": "@jupyter-widgets/controls",
          "model_name": "HTMLModel",
          "model_module_version": "1.5.0",
          "state": {
            "_dom_classes": [],
            "_model_module": "@jupyter-widgets/controls",
            "_model_module_version": "1.5.0",
            "_model_name": "HTMLModel",
            "_view_count": null,
            "_view_module": "@jupyter-widgets/controls",
            "_view_module_version": "1.5.0",
            "_view_name": "HTMLView",
            "description": "",
            "description_tooltip": null,
            "layout": "IPY_MODEL_3c6cc13758384739831d06d5a96babb2",
            "placeholder": "​",
            "style": "IPY_MODEL_5f109ef6ee1f47b59cbe6ad05309299b",
            "value": " 64/64 [09:22&lt;00:00,  7.52s/it]"
          }
        },
        "6d37d9dba8014345853de01a50dc80e8": {
          "model_module": "@jupyter-widgets/base",
          "model_name": "LayoutModel",
          "model_module_version": "1.2.0",
          "state": {
            "_model_module": "@jupyter-widgets/base",
            "_model_module_version": "1.2.0",
            "_model_name": "LayoutModel",
            "_view_count": null,
            "_view_module": "@jupyter-widgets/base",
            "_view_module_version": "1.2.0",
            "_view_name": "LayoutView",
            "align_content": null,
            "align_items": null,
            "align_self": null,
            "border": null,
            "bottom": null,
            "display": null,
            "flex": null,
            "flex_flow": null,
            "grid_area": null,
            "grid_auto_columns": null,
            "grid_auto_flow": null,
            "grid_auto_rows": null,
            "grid_column": null,
            "grid_gap": null,
            "grid_row": null,
            "grid_template_areas": null,
            "grid_template_columns": null,
            "grid_template_rows": null,
            "height": null,
            "justify_content": null,
            "justify_items": null,
            "left": null,
            "margin": null,
            "max_height": null,
            "max_width": null,
            "min_height": null,
            "min_width": null,
            "object_fit": null,
            "object_position": null,
            "order": null,
            "overflow": null,
            "overflow_x": null,
            "overflow_y": null,
            "padding": null,
            "right": null,
            "top": null,
            "visibility": null,
            "width": null
          }
        },
        "b95559a311894ecdb63ac5de90d3ab5b": {
          "model_module": "@jupyter-widgets/base",
          "model_name": "LayoutModel",
          "model_module_version": "1.2.0",
          "state": {
            "_model_module": "@jupyter-widgets/base",
            "_model_module_version": "1.2.0",
            "_model_name": "LayoutModel",
            "_view_count": null,
            "_view_module": "@jupyter-widgets/base",
            "_view_module_version": "1.2.0",
            "_view_name": "LayoutView",
            "align_content": null,
            "align_items": null,
            "align_self": null,
            "border": null,
            "bottom": null,
            "display": null,
            "flex": null,
            "flex_flow": null,
            "grid_area": null,
            "grid_auto_columns": null,
            "grid_auto_flow": null,
            "grid_auto_rows": null,
            "grid_column": null,
            "grid_gap": null,
            "grid_row": null,
            "grid_template_areas": null,
            "grid_template_columns": null,
            "grid_template_rows": null,
            "height": null,
            "justify_content": null,
            "justify_items": null,
            "left": null,
            "margin": null,
            "max_height": null,
            "max_width": null,
            "min_height": null,
            "min_width": null,
            "object_fit": null,
            "object_position": null,
            "order": null,
            "overflow": null,
            "overflow_x": null,
            "overflow_y": null,
            "padding": null,
            "right": null,
            "top": null,
            "visibility": null,
            "width": null
          }
        },
        "1b0d296440254f199ae5b90453706c1b": {
          "model_module": "@jupyter-widgets/controls",
          "model_name": "DescriptionStyleModel",
          "model_module_version": "1.5.0",
          "state": {
            "_model_module": "@jupyter-widgets/controls",
            "_model_module_version": "1.5.0",
            "_model_name": "DescriptionStyleModel",
            "_view_count": null,
            "_view_module": "@jupyter-widgets/base",
            "_view_module_version": "1.2.0",
            "_view_name": "StyleView",
            "description_width": ""
          }
        },
        "8d6f03ff7ad0491387f3fe77f0beb92c": {
          "model_module": "@jupyter-widgets/base",
          "model_name": "LayoutModel",
          "model_module_version": "1.2.0",
          "state": {
            "_model_module": "@jupyter-widgets/base",
            "_model_module_version": "1.2.0",
            "_model_name": "LayoutModel",
            "_view_count": null,
            "_view_module": "@jupyter-widgets/base",
            "_view_module_version": "1.2.0",
            "_view_name": "LayoutView",
            "align_content": null,
            "align_items": null,
            "align_self": null,
            "border": null,
            "bottom": null,
            "display": null,
            "flex": null,
            "flex_flow": null,
            "grid_area": null,
            "grid_auto_columns": null,
            "grid_auto_flow": null,
            "grid_auto_rows": null,
            "grid_column": null,
            "grid_gap": null,
            "grid_row": null,
            "grid_template_areas": null,
            "grid_template_columns": null,
            "grid_template_rows": null,
            "height": null,
            "justify_content": null,
            "justify_items": null,
            "left": null,
            "margin": null,
            "max_height": null,
            "max_width": null,
            "min_height": null,
            "min_width": null,
            "object_fit": null,
            "object_position": null,
            "order": null,
            "overflow": null,
            "overflow_x": null,
            "overflow_y": null,
            "padding": null,
            "right": null,
            "top": null,
            "visibility": null,
            "width": null
          }
        },
        "bf76a4351bc046289a22379a5a6c02a6": {
          "model_module": "@jupyter-widgets/controls",
          "model_name": "ProgressStyleModel",
          "model_module_version": "1.5.0",
          "state": {
            "_model_module": "@jupyter-widgets/controls",
            "_model_module_version": "1.5.0",
            "_model_name": "ProgressStyleModel",
            "_view_count": null,
            "_view_module": "@jupyter-widgets/base",
            "_view_module_version": "1.2.0",
            "_view_name": "StyleView",
            "bar_color": null,
            "description_width": ""
          }
        },
        "3c6cc13758384739831d06d5a96babb2": {
          "model_module": "@jupyter-widgets/base",
          "model_name": "LayoutModel",
          "model_module_version": "1.2.0",
          "state": {
            "_model_module": "@jupyter-widgets/base",
            "_model_module_version": "1.2.0",
            "_model_name": "LayoutModel",
            "_view_count": null,
            "_view_module": "@jupyter-widgets/base",
            "_view_module_version": "1.2.0",
            "_view_name": "LayoutView",
            "align_content": null,
            "align_items": null,
            "align_self": null,
            "border": null,
            "bottom": null,
            "display": null,
            "flex": null,
            "flex_flow": null,
            "grid_area": null,
            "grid_auto_columns": null,
            "grid_auto_flow": null,
            "grid_auto_rows": null,
            "grid_column": null,
            "grid_gap": null,
            "grid_row": null,
            "grid_template_areas": null,
            "grid_template_columns": null,
            "grid_template_rows": null,
            "height": null,
            "justify_content": null,
            "justify_items": null,
            "left": null,
            "margin": null,
            "max_height": null,
            "max_width": null,
            "min_height": null,
            "min_width": null,
            "object_fit": null,
            "object_position": null,
            "order": null,
            "overflow": null,
            "overflow_x": null,
            "overflow_y": null,
            "padding": null,
            "right": null,
            "top": null,
            "visibility": null,
            "width": null
          }
        },
        "5f109ef6ee1f47b59cbe6ad05309299b": {
          "model_module": "@jupyter-widgets/controls",
          "model_name": "DescriptionStyleModel",
          "model_module_version": "1.5.0",
          "state": {
            "_model_module": "@jupyter-widgets/controls",
            "_model_module_version": "1.5.0",
            "_model_name": "DescriptionStyleModel",
            "_view_count": null,
            "_view_module": "@jupyter-widgets/base",
            "_view_module_version": "1.2.0",
            "_view_name": "StyleView",
            "description_width": ""
          }
        },
        "dc7f5fc385284aa59efa19bc60930aa3": {
          "model_module": "@jupyter-widgets/controls",
          "model_name": "HTMLModel",
          "model_module_version": "1.5.0",
          "state": {
            "_dom_classes": [],
            "_model_module": "@jupyter-widgets/controls",
            "_model_module_version": "1.5.0",
            "_model_name": "HTMLModel",
            "_view_count": null,
            "_view_module": "@jupyter-widgets/controls",
            "_view_module_version": "1.5.0",
            "_view_name": "HTMLView",
            "description": "",
            "description_tooltip": null,
            "layout": "IPY_MODEL_7f59ca89649d413b9702380da9c3fe46",
            "placeholder": "​",
            "style": "IPY_MODEL_d9bafdc5dbef4ffc8cf3073f795e992b",
            "value": "<img src=\"data:image/gif;base64,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\" />"
          }
        },
        "7f59ca89649d413b9702380da9c3fe46": {
          "model_module": "@jupyter-widgets/base",
          "model_name": "LayoutModel",
          "model_module_version": "1.2.0",
          "state": {
            "_model_module": "@jupyter-widgets/base",
            "_model_module_version": "1.2.0",
            "_model_name": "LayoutModel",
            "_view_count": null,
            "_view_module": "@jupyter-widgets/base",
            "_view_module_version": "1.2.0",
            "_view_name": "LayoutView",
            "align_content": null,
            "align_items": null,
            "align_self": null,
            "border": null,
            "bottom": null,
            "display": null,
            "flex": null,
            "flex_flow": null,
            "grid_area": null,
            "grid_auto_columns": null,
            "grid_auto_flow": null,
            "grid_auto_rows": null,
            "grid_column": null,
            "grid_gap": null,
            "grid_row": null,
            "grid_template_areas": null,
            "grid_template_columns": null,
            "grid_template_rows": null,
            "height": null,
            "justify_content": null,
            "justify_items": null,
            "left": null,
            "margin": null,
            "max_height": null,
            "max_width": null,
            "min_height": null,
            "min_width": null,
            "object_fit": null,
            "object_position": null,
            "order": null,
            "overflow": null,
            "overflow_x": null,
            "overflow_y": null,
            "padding": null,
            "right": null,
            "top": null,
            "visibility": null,
            "width": null
          }
        },
        "d9bafdc5dbef4ffc8cf3073f795e992b": {
          "model_module": "@jupyter-widgets/controls",
          "model_name": "DescriptionStyleModel",
          "model_module_version": "1.5.0",
          "state": {
            "_model_module": "@jupyter-widgets/controls",
            "_model_module_version": "1.5.0",
            "_model_name": "DescriptionStyleModel",
            "_view_count": null,
            "_view_module": "@jupyter-widgets/base",
            "_view_module_version": "1.2.0",
            "_view_name": "StyleView",
            "description_width": ""
          }
        },
        "0f8080a8f66345abb4ebac108e8842eb": {
          "model_module": "@jupyter-widgets/controls",
          "model_name": "HTMLModel",
          "model_module_version": "1.5.0",
          "state": {
            "_dom_classes": [],
            "_model_module": "@jupyter-widgets/controls",
            "_model_module_version": "1.5.0",
            "_model_name": "HTMLModel",
            "_view_count": null,
            "_view_module": "@jupyter-widgets/controls",
            "_view_module_version": "1.5.0",
            "_view_name": "HTMLView",
            "description": "",
            "description_tooltip": null,
            "layout": "IPY_MODEL_ea594425518043bb9c19e2cec9dafd27",
            "placeholder": "​",
            "style": "IPY_MODEL_091c7ca7218e44e987c5aff5b2bc7c80",
            "value": "<img src=\"data:image/gif;base64,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\" />"
          }
        },
        "ea594425518043bb9c19e2cec9dafd27": {
          "model_module": "@jupyter-widgets/base",
          "model_name": "LayoutModel",
          "model_module_version": "1.2.0",
          "state": {
            "_model_module": "@jupyter-widgets/base",
            "_model_module_version": "1.2.0",
            "_model_name": "LayoutModel",
            "_view_count": null,
            "_view_module": "@jupyter-widgets/base",
            "_view_module_version": "1.2.0",
            "_view_name": "LayoutView",
            "align_content": null,
            "align_items": null,
            "align_self": null,
            "border": null,
            "bottom": null,
            "display": null,
            "flex": null,
            "flex_flow": null,
            "grid_area": null,
            "grid_auto_columns": null,
            "grid_auto_flow": null,
            "grid_auto_rows": null,
            "grid_column": null,
            "grid_gap": null,
            "grid_row": null,
            "grid_template_areas": null,
            "grid_template_columns": null,
            "grid_template_rows": null,
            "height": null,
            "justify_content": null,
            "justify_items": null,
            "left": null,
            "margin": null,
            "max_height": null,
            "max_width": null,
            "min_height": null,
            "min_width": null,
            "object_fit": null,
            "object_position": null,
            "order": null,
            "overflow": null,
            "overflow_x": null,
            "overflow_y": null,
            "padding": null,
            "right": null,
            "top": null,
            "visibility": null,
            "width": null
          }
        },
        "091c7ca7218e44e987c5aff5b2bc7c80": {
          "model_module": "@jupyter-widgets/controls",
          "model_name": "DescriptionStyleModel",
          "model_module_version": "1.5.0",
          "state": {
            "_model_module": "@jupyter-widgets/controls",
            "_model_module_version": "1.5.0",
            "_model_name": "DescriptionStyleModel",
            "_view_count": null,
            "_view_module": "@jupyter-widgets/base",
            "_view_module_version": "1.2.0",
            "_view_name": "StyleView",
            "description_width": ""
          }
        },
        "3a2de62ea53b4dd2a8bb63c1f7ca4965": {
          "model_module": "@jupyter-widgets/controls",
          "model_name": "HTMLModel",
          "model_module_version": "1.5.0",
          "state": {
            "_dom_classes": [],
            "_model_module": "@jupyter-widgets/controls",
            "_model_module_version": "1.5.0",
            "_model_name": "HTMLModel",
            "_view_count": null,
            "_view_module": "@jupyter-widgets/controls",
            "_view_module_version": "1.5.0",
            "_view_name": "HTMLView",
            "description": "",
            "description_tooltip": null,
            "layout": "IPY_MODEL_0fef14f6baa64b5d8a23b03e22f10cb7",
            "placeholder": "​",
            "style": "IPY_MODEL_3b56c85384c54d3da9db5b9bdc740133",
            "value": "<img src=\"data:image/gif;base64,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\" />"
          }
        },
        "0fef14f6baa64b5d8a23b03e22f10cb7": {
          "model_module": "@jupyter-widgets/base",
          "model_name": "LayoutModel",
          "model_module_version": "1.2.0",
          "state": {
            "_model_module": "@jupyter-widgets/base",
            "_model_module_version": "1.2.0",
            "_model_name": "LayoutModel",
            "_view_count": null,
            "_view_module": "@jupyter-widgets/base",
            "_view_module_version": "1.2.0",
            "_view_name": "LayoutView",
            "align_content": null,
            "align_items": null,
            "align_self": null,
            "border": null,
            "bottom": null,
            "display": null,
            "flex": null,
            "flex_flow": null,
            "grid_area": null,
            "grid_auto_columns": null,
            "grid_auto_flow": null,
            "grid_auto_rows": null,
            "grid_column": null,
            "grid_gap": null,
            "grid_row": null,
            "grid_template_areas": null,
            "grid_template_columns": null,
            "grid_template_rows": null,
            "height": null,
            "justify_content": null,
            "justify_items": null,
            "left": null,
            "margin": null,
            "max_height": null,
            "max_width": null,
            "min_height": null,
            "min_width": null,
            "object_fit": null,
            "object_position": null,
            "order": null,
            "overflow": null,
            "overflow_x": null,
            "overflow_y": null,
            "padding": null,
            "right": null,
            "top": null,
            "visibility": null,
            "width": null
          }
        },
        "3b56c85384c54d3da9db5b9bdc740133": {
          "model_module": "@jupyter-widgets/controls",
          "model_name": "DescriptionStyleModel",
          "model_module_version": "1.5.0",
          "state": {
            "_model_module": "@jupyter-widgets/controls",
            "_model_module_version": "1.5.0",
            "_model_name": "DescriptionStyleModel",
            "_view_count": null,
            "_view_module": "@jupyter-widgets/base",
            "_view_module_version": "1.2.0",
            "_view_name": "StyleView",
            "description_width": ""
          }
        },
        "2cfa77e6dd0a45c88a770259afba0e0c": {
          "model_module": "@jupyter-widgets/controls",
          "model_name": "HTMLModel",
          "model_module_version": "1.5.0",
          "state": {
            "_dom_classes": [],
            "_model_module": "@jupyter-widgets/controls",
            "_model_module_version": "1.5.0",
            "_model_name": "HTMLModel",
            "_view_count": null,
            "_view_module": "@jupyter-widgets/controls",
            "_view_module_version": "1.5.0",
            "_view_name": "HTMLView",
            "description": "",
            "description_tooltip": null,
            "layout": "IPY_MODEL_af5647e4b19a4cb0b6ca21350121ca55",
            "placeholder": "​",
            "style": "IPY_MODEL_4d8d50996d094691afb5e94a8da502a9",
            "value": "<img src=\"data:image/gif;base64,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\" />"
          }
        },
        "af5647e4b19a4cb0b6ca21350121ca55": {
          "model_module": "@jupyter-widgets/base",
          "model_name": "LayoutModel",
          "model_module_version": "1.2.0",
          "state": {
            "_model_module": "@jupyter-widgets/base",
            "_model_module_version": "1.2.0",
            "_model_name": "LayoutModel",
            "_view_count": null,
            "_view_module": "@jupyter-widgets/base",
            "_view_module_version": "1.2.0",
            "_view_name": "LayoutView",
            "align_content": null,
            "align_items": null,
            "align_self": null,
            "border": null,
            "bottom": null,
            "display": null,
            "flex": null,
            "flex_flow": null,
            "grid_area": null,
            "grid_auto_columns": null,
            "grid_auto_flow": null,
            "grid_auto_rows": null,
            "grid_column": null,
            "grid_gap": null,
            "grid_row": null,
            "grid_template_areas": null,
            "grid_template_columns": null,
            "grid_template_rows": null,
            "height": null,
            "justify_content": null,
            "justify_items": null,
            "left": null,
            "margin": null,
            "max_height": null,
            "max_width": null,
            "min_height": null,
            "min_width": null,
            "object_fit": null,
            "object_position": null,
            "order": null,
            "overflow": null,
            "overflow_x": null,
            "overflow_y": null,
            "padding": null,
            "right": null,
            "top": null,
            "visibility": null,
            "width": null
          }
        },
        "4d8d50996d094691afb5e94a8da502a9": {
          "model_module": "@jupyter-widgets/controls",
          "model_name": "DescriptionStyleModel",
          "model_module_version": "1.5.0",
          "state": {
            "_model_module": "@jupyter-widgets/controls",
            "_model_module_version": "1.5.0",
            "_model_name": "DescriptionStyleModel",
            "_view_count": null,
            "_view_module": "@jupyter-widgets/base",
            "_view_module_version": "1.2.0",
            "_view_name": "StyleView",
            "description_width": ""
          }
        },
        "a3a30835c1014c4db505d80d235db461": {
          "model_module": "@jupyter-widgets/controls",
          "model_name": "HTMLModel",
          "model_module_version": "1.5.0",
          "state": {
            "_dom_classes": [],
            "_model_module": "@jupyter-widgets/controls",
            "_model_module_version": "1.5.0",
            "_model_name": "HTMLModel",
            "_view_count": null,
            "_view_module": "@jupyter-widgets/controls",
            "_view_module_version": "1.5.0",
            "_view_name": "HTMLView",
            "description": "",
            "description_tooltip": null,
            "layout": "IPY_MODEL_8769453ce89e4601be740238486303ee",
            "placeholder": "​",
            "style": "IPY_MODEL_7b4d661dd8dd47d6a4eca69d42721a35",
            "value": "<img src=\"data:image/gif;base64,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\" />"
          }
        },
        "8769453ce89e4601be740238486303ee": {
          "model_module": "@jupyter-widgets/base",
          "model_name": "LayoutModel",
          "model_module_version": "1.2.0",
          "state": {
            "_model_module": "@jupyter-widgets/base",
            "_model_module_version": "1.2.0",
            "_model_name": "LayoutModel",
            "_view_count": null,
            "_view_module": "@jupyter-widgets/base",
            "_view_module_version": "1.2.0",
            "_view_name": "LayoutView",
            "align_content": null,
            "align_items": null,
            "align_self": null,
            "border": null,
            "bottom": null,
            "display": null,
            "flex": null,
            "flex_flow": null,
            "grid_area": null,
            "grid_auto_columns": null,
            "grid_auto_flow": null,
            "grid_auto_rows": null,
            "grid_column": null,
            "grid_gap": null,
            "grid_row": null,
            "grid_template_areas": null,
            "grid_template_columns": null,
            "grid_template_rows": null,
            "height": null,
            "justify_content": null,
            "justify_items": null,
            "left": null,
            "margin": null,
            "max_height": null,
            "max_width": null,
            "min_height": null,
            "min_width": null,
            "object_fit": null,
            "object_position": null,
            "order": null,
            "overflow": null,
            "overflow_x": null,
            "overflow_y": null,
            "padding": null,
            "right": null,
            "top": null,
            "visibility": null,
            "width": null
          }
        },
        "7b4d661dd8dd47d6a4eca69d42721a35": {
          "model_module": "@jupyter-widgets/controls",
          "model_name": "DescriptionStyleModel",
          "model_module_version": "1.5.0",
          "state": {
            "_model_module": "@jupyter-widgets/controls",
            "_model_module_version": "1.5.0",
            "_model_name": "DescriptionStyleModel",
            "_view_count": null,
            "_view_module": "@jupyter-widgets/base",
            "_view_module_version": "1.2.0",
            "_view_name": "StyleView",
            "description_width": ""
          }
        },
        "02525df665d649a7b52e64639fa7fa22": {
          "model_module": "@jupyter-widgets/controls",
          "model_name": "HTMLModel",
          "model_module_version": "1.5.0",
          "state": {
            "_dom_classes": [],
            "_model_module": "@jupyter-widgets/controls",
            "_model_module_version": "1.5.0",
            "_model_name": "HTMLModel",
            "_view_count": null,
            "_view_module": "@jupyter-widgets/controls",
            "_view_module_version": "1.5.0",
            "_view_name": "HTMLView",
            "description": "",
            "description_tooltip": null,
            "layout": "IPY_MODEL_e13649555e0b420d8b7e5894cca7c816",
            "placeholder": "​",
            "style": "IPY_MODEL_70a4661e48db4defa0aeef0c63171a15",
            "value": "<img src=\"data:image/gif;base64,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\" />"
          }
        },
        "e13649555e0b420d8b7e5894cca7c816": {
          "model_module": "@jupyter-widgets/base",
          "model_name": "LayoutModel",
          "model_module_version": "1.2.0",
          "state": {
            "_model_module": "@jupyter-widgets/base",
            "_model_module_version": "1.2.0",
            "_model_name": "LayoutModel",
            "_view_count": null,
            "_view_module": "@jupyter-widgets/base",
            "_view_module_version": "1.2.0",
            "_view_name": "LayoutView",
            "align_content": null,
            "align_items": null,
            "align_self": null,
            "border": null,
            "bottom": null,
            "display": null,
            "flex": null,
            "flex_flow": null,
            "grid_area": null,
            "grid_auto_columns": null,
            "grid_auto_flow": null,
            "grid_auto_rows": null,
            "grid_column": null,
            "grid_gap": null,
            "grid_row": null,
            "grid_template_areas": null,
            "grid_template_columns": null,
            "grid_template_rows": null,
            "height": null,
            "justify_content": null,
            "justify_items": null,
            "left": null,
            "margin": null,
            "max_height": null,
            "max_width": null,
            "min_height": null,
            "min_width": null,
            "object_fit": null,
            "object_position": null,
            "order": null,
            "overflow": null,
            "overflow_x": null,
            "overflow_y": null,
            "padding": null,
            "right": null,
            "top": null,
            "visibility": null,
            "width": null
          }
        },
        "70a4661e48db4defa0aeef0c63171a15": {
          "model_module": "@jupyter-widgets/controls",
          "model_name": "DescriptionStyleModel",
          "model_module_version": "1.5.0",
          "state": {
            "_model_module": "@jupyter-widgets/controls",
            "_model_module_version": "1.5.0",
            "_model_name": "DescriptionStyleModel",
            "_view_count": null,
            "_view_module": "@jupyter-widgets/base",
            "_view_module_version": "1.2.0",
            "_view_name": "StyleView",
            "description_width": ""
          }
        },
        "8f3d0ab7d32e401cab65046eb2295112": {
          "model_module": "@jupyter-widgets/controls",
          "model_name": "HTMLModel",
          "model_module_version": "1.5.0",
          "state": {
            "_dom_classes": [],
            "_model_module": "@jupyter-widgets/controls",
            "_model_module_version": "1.5.0",
            "_model_name": "HTMLModel",
            "_view_count": null,
            "_view_module": "@jupyter-widgets/controls",
            "_view_module_version": "1.5.0",
            "_view_name": "HTMLView",
            "description": "",
            "description_tooltip": null,
            "layout": "IPY_MODEL_286c923ba16b4b559628ec3d5929e4bd",
            "placeholder": "​",
            "style": "IPY_MODEL_ba5155cb82f44af488f64353e527a53b",
            "value": "<img src=\"data:image/gif;base64,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\" />"
          }
        },
        "286c923ba16b4b559628ec3d5929e4bd": {
          "model_module": "@jupyter-widgets/base",
          "model_name": "LayoutModel",
          "model_module_version": "1.2.0",
          "state": {
            "_model_module": "@jupyter-widgets/base",
            "_model_module_version": "1.2.0",
            "_model_name": "LayoutModel",
            "_view_count": null,
            "_view_module": "@jupyter-widgets/base",
            "_view_module_version": "1.2.0",
            "_view_name": "LayoutView",
            "align_content": null,
            "align_items": null,
            "align_self": null,
            "border": null,
            "bottom": null,
            "display": null,
            "flex": null,
            "flex_flow": null,
            "grid_area": null,
            "grid_auto_columns": null,
            "grid_auto_flow": null,
            "grid_auto_rows": null,
            "grid_column": null,
            "grid_gap": null,
            "grid_row": null,
            "grid_template_areas": null,
            "grid_template_columns": null,
            "grid_template_rows": null,
            "height": null,
            "justify_content": null,
            "justify_items": null,
            "left": null,
            "margin": null,
            "max_height": null,
            "max_width": null,
            "min_height": null,
            "min_width": null,
            "object_fit": null,
            "object_position": null,
            "order": null,
            "overflow": null,
            "overflow_x": null,
            "overflow_y": null,
            "padding": null,
            "right": null,
            "top": null,
            "visibility": null,
            "width": null
          }
        },
        "ba5155cb82f44af488f64353e527a53b": {
          "model_module": "@jupyter-widgets/controls",
          "model_name": "DescriptionStyleModel",
          "model_module_version": "1.5.0",
          "state": {
            "_model_module": "@jupyter-widgets/controls",
            "_model_module_version": "1.5.0",
            "_model_name": "DescriptionStyleModel",
            "_view_count": null,
            "_view_module": "@jupyter-widgets/base",
            "_view_module_version": "1.2.0",
            "_view_name": "StyleView",
            "description_width": ""
          }
        },
        "a8e277fde1f94aa5baeaa7c8b88b2ac7": {
          "model_module": "@jupyter-widgets/controls",
          "model_name": "HTMLModel",
          "model_module_version": "1.5.0",
          "state": {
            "_dom_classes": [],
            "_model_module": "@jupyter-widgets/controls",
            "_model_module_version": "1.5.0",
            "_model_name": "HTMLModel",
            "_view_count": null,
            "_view_module": "@jupyter-widgets/controls",
            "_view_module_version": "1.5.0",
            "_view_name": "HTMLView",
            "description": "",
            "description_tooltip": null,
            "layout": "IPY_MODEL_2ce2ed21205940e48873f4e75027a52f",
            "placeholder": "​",
            "style": "IPY_MODEL_0620db2f9ca743bf9b96dd6c66ffa0de",
            "value": "<img src=\"data:image/gif;base64,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\" />"
          }
        },
        "2ce2ed21205940e48873f4e75027a52f": {
          "model_module": "@jupyter-widgets/base",
          "model_name": "LayoutModel",
          "model_module_version": "1.2.0",
          "state": {
            "_model_module": "@jupyter-widgets/base",
            "_model_module_version": "1.2.0",
            "_model_name": "LayoutModel",
            "_view_count": null,
            "_view_module": "@jupyter-widgets/base",
            "_view_module_version": "1.2.0",
            "_view_name": "LayoutView",
            "align_content": null,
            "align_items": null,
            "align_self": null,
            "border": null,
            "bottom": null,
            "display": null,
            "flex": null,
            "flex_flow": null,
            "grid_area": null,
            "grid_auto_columns": null,
            "grid_auto_flow": null,
            "grid_auto_rows": null,
            "grid_column": null,
            "grid_gap": null,
            "grid_row": null,
            "grid_template_areas": null,
            "grid_template_columns": null,
            "grid_template_rows": null,
            "height": null,
            "justify_content": null,
            "justify_items": null,
            "left": null,
            "margin": null,
            "max_height": null,
            "max_width": null,
            "min_height": null,
            "min_width": null,
            "object_fit": null,
            "object_position": null,
            "order": null,
            "overflow": null,
            "overflow_x": null,
            "overflow_y": null,
            "padding": null,
            "right": null,
            "top": null,
            "visibility": null,
            "width": null
          }
        },
        "0620db2f9ca743bf9b96dd6c66ffa0de": {
          "model_module": "@jupyter-widgets/controls",
          "model_name": "DescriptionStyleModel",
          "model_module_version": "1.5.0",
          "state": {
            "_model_module": "@jupyter-widgets/controls",
            "_model_module_version": "1.5.0",
            "_model_name": "DescriptionStyleModel",
            "_view_count": null,
            "_view_module": "@jupyter-widgets/base",
            "_view_module_version": "1.2.0",
            "_view_name": "StyleView",
            "description_width": ""
          }
        },
        "448b7c09ebff40b2b13f469467855eea": {
          "model_module": "@jupyter-widgets/controls",
          "model_name": "HTMLModel",
          "model_module_version": "1.5.0",
          "state": {
            "_dom_classes": [],
            "_model_module": "@jupyter-widgets/controls",
            "_model_module_version": "1.5.0",
            "_model_name": "HTMLModel",
            "_view_count": null,
            "_view_module": "@jupyter-widgets/controls",
            "_view_module_version": "1.5.0",
            "_view_name": "HTMLView",
            "description": "",
            "description_tooltip": null,
            "layout": "IPY_MODEL_2a4e954955d140809da4ef7ca3302184",
            "placeholder": "​",
            "style": "IPY_MODEL_f52f08fa19c24041a7e0ba411c20bc59",
            "value": "<img src=\"data:image/gif;base64,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\" />"
          }
        },
        "2a4e954955d140809da4ef7ca3302184": {
          "model_module": "@jupyter-widgets/base",
          "model_name": "LayoutModel",
          "model_module_version": "1.2.0",
          "state": {
            "_model_module": "@jupyter-widgets/base",
            "_model_module_version": "1.2.0",
            "_model_name": "LayoutModel",
            "_view_count": null,
            "_view_module": "@jupyter-widgets/base",
            "_view_module_version": "1.2.0",
            "_view_name": "LayoutView",
            "align_content": null,
            "align_items": null,
            "align_self": null,
            "border": null,
            "bottom": null,
            "display": null,
            "flex": null,
            "flex_flow": null,
            "grid_area": null,
            "grid_auto_columns": null,
            "grid_auto_flow": null,
            "grid_auto_rows": null,
            "grid_column": null,
            "grid_gap": null,
            "grid_row": null,
            "grid_template_areas": null,
            "grid_template_columns": null,
            "grid_template_rows": null,
            "height": null,
            "justify_content": null,
            "justify_items": null,
            "left": null,
            "margin": null,
            "max_height": null,
            "max_width": null,
            "min_height": null,
            "min_width": null,
            "object_fit": null,
            "object_position": null,
            "order": null,
            "overflow": null,
            "overflow_x": null,
            "overflow_y": null,
            "padding": null,
            "right": null,
            "top": null,
            "visibility": null,
            "width": null
          }
        },
        "f52f08fa19c24041a7e0ba411c20bc59": {
          "model_module": "@jupyter-widgets/controls",
          "model_name": "DescriptionStyleModel",
          "model_module_version": "1.5.0",
          "state": {
            "_model_module": "@jupyter-widgets/controls",
            "_model_module_version": "1.5.0",
            "_model_name": "DescriptionStyleModel",
            "_view_count": null,
            "_view_module": "@jupyter-widgets/base",
            "_view_module_version": "1.2.0",
            "_view_name": "StyleView",
            "description_width": ""
          }
        },
        "02a008397c894022bf04e76d98476a75": {
          "model_module": "@jupyter-widgets/controls",
          "model_name": "HTMLModel",
          "model_module_version": "1.5.0",
          "state": {
            "_dom_classes": [],
            "_model_module": "@jupyter-widgets/controls",
            "_model_module_version": "1.5.0",
            "_model_name": "HTMLModel",
            "_view_count": null,
            "_view_module": "@jupyter-widgets/controls",
            "_view_module_version": "1.5.0",
            "_view_name": "HTMLView",
            "description": "",
            "description_tooltip": null,
            "layout": "IPY_MODEL_6b80f557b9084dc69347b045ef0ea5c3",
            "placeholder": "​",
            "style": "IPY_MODEL_d0900984e44a4aaeb00686cb9721ac55",
            "value": "<img src=\"data:image/gif;base64,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\" />"
          }
        },
        "6b80f557b9084dc69347b045ef0ea5c3": {
          "model_module": "@jupyter-widgets/base",
          "model_name": "LayoutModel",
          "model_module_version": "1.2.0",
          "state": {
            "_model_module": "@jupyter-widgets/base",
            "_model_module_version": "1.2.0",
            "_model_name": "LayoutModel",
            "_view_count": null,
            "_view_module": "@jupyter-widgets/base",
            "_view_module_version": "1.2.0",
            "_view_name": "LayoutView",
            "align_content": null,
            "align_items": null,
            "align_self": null,
            "border": null,
            "bottom": null,
            "display": null,
            "flex": null,
            "flex_flow": null,
            "grid_area": null,
            "grid_auto_columns": null,
            "grid_auto_flow": null,
            "grid_auto_rows": null,
            "grid_column": null,
            "grid_gap": null,
            "grid_row": null,
            "grid_template_areas": null,
            "grid_template_columns": null,
            "grid_template_rows": null,
            "height": null,
            "justify_content": null,
            "justify_items": null,
            "left": null,
            "margin": null,
            "max_height": null,
            "max_width": null,
            "min_height": null,
            "min_width": null,
            "object_fit": null,
            "object_position": null,
            "order": null,
            "overflow": null,
            "overflow_x": null,
            "overflow_y": null,
            "padding": null,
            "right": null,
            "top": null,
            "visibility": null,
            "width": null
          }
        },
        "d0900984e44a4aaeb00686cb9721ac55": {
          "model_module": "@jupyter-widgets/controls",
          "model_name": "DescriptionStyleModel",
          "model_module_version": "1.5.0",
          "state": {
            "_model_module": "@jupyter-widgets/controls",
            "_model_module_version": "1.5.0",
            "_model_name": "DescriptionStyleModel",
            "_view_count": null,
            "_view_module": "@jupyter-widgets/base",
            "_view_module_version": "1.2.0",
            "_view_name": "StyleView",
            "description_width": ""
          }
        },
        "a8ef78a55b1b44858cafaae84f6f16b0": {
          "model_module": "@jupyter-widgets/controls",
          "model_name": "HTMLModel",
          "model_module_version": "1.5.0",
          "state": {
            "_dom_classes": [],
            "_model_module": "@jupyter-widgets/controls",
            "_model_module_version": "1.5.0",
            "_model_name": "HTMLModel",
            "_view_count": null,
            "_view_module": "@jupyter-widgets/controls",
            "_view_module_version": "1.5.0",
            "_view_name": "HTMLView",
            "description": "",
            "description_tooltip": null,
            "layout": "IPY_MODEL_23b31f9191a54179afeea16f874067d2",
            "placeholder": "​",
            "style": "IPY_MODEL_8597c6b481e9415d9b64760b272b9e35",
            "value": "<img src=\"data:image/gif;base64,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\" />"
          }
        },
        "23b31f9191a54179afeea16f874067d2": {
          "model_module": "@jupyter-widgets/base",
          "model_name": "LayoutModel",
          "model_module_version": "1.2.0",
          "state": {
            "_model_module": "@jupyter-widgets/base",
            "_model_module_version": "1.2.0",
            "_model_name": "LayoutModel",
            "_view_count": null,
            "_view_module": "@jupyter-widgets/base",
            "_view_module_version": "1.2.0",
            "_view_name": "LayoutView",
            "align_content": null,
            "align_items": null,
            "align_self": null,
            "border": null,
            "bottom": null,
            "display": null,
            "flex": null,
            "flex_flow": null,
            "grid_area": null,
            "grid_auto_columns": null,
            "grid_auto_flow": null,
            "grid_auto_rows": null,
            "grid_column": null,
            "grid_gap": null,
            "grid_row": null,
            "grid_template_areas": null,
            "grid_template_columns": null,
            "grid_template_rows": null,
            "height": null,
            "justify_content": null,
            "justify_items": null,
            "left": null,
            "margin": null,
            "max_height": null,
            "max_width": null,
            "min_height": null,
            "min_width": null,
            "object_fit": null,
            "object_position": null,
            "order": null,
            "overflow": null,
            "overflow_x": null,
            "overflow_y": null,
            "padding": null,
            "right": null,
            "top": null,
            "visibility": null,
            "width": null
          }
        },
        "8597c6b481e9415d9b64760b272b9e35": {
          "model_module": "@jupyter-widgets/controls",
          "model_name": "DescriptionStyleModel",
          "model_module_version": "1.5.0",
          "state": {
            "_model_module": "@jupyter-widgets/controls",
            "_model_module_version": "1.5.0",
            "_model_name": "DescriptionStyleModel",
            "_view_count": null,
            "_view_module": "@jupyter-widgets/base",
            "_view_module_version": "1.2.0",
            "_view_name": "StyleView",
            "description_width": ""
          }
        }
      }
    }
  },
  "cells": [
    {
      "cell_type": "markdown",
      "metadata": {
        "id": "view-in-github",
        "colab_type": "text"
      },
      "source": [
        "<a href=\"https://colab.research.google.com/github/Natotela/Bemba/blob/master/Shap_e.ipynb\" target=\"_parent\"><img src=\"https://colab.research.google.com/assets/colab-badge.svg\" alt=\"Open In Colab\"/></a>"
      ]
    },
    {
      "cell_type": "code",
      "execution_count": 1,
      "metadata": {
        "colab": {
          "base_uri": "https://localhost:8080/"
        },
        "id": "s9lznBfy5csV",
        "outputId": "f4015a72-26a3-4983-ba7f-6dfc5f2d93a9"
      },
      "outputs": [
        {
          "output_type": "stream",
          "name": "stdout",
          "text": [
            "Cloning into 'shap-e'...\n",
            "remote: Enumerating objects: 322, done.\u001b[K\n",
            "remote: Counting objects: 100% (44/44), done.\u001b[K\n",
            "remote: Compressing objects: 100% (31/31), done.\u001b[K\n",
            "remote: Total 322 (delta 29), reused 13 (delta 13), pack-reused 278\u001b[K\n",
            "Receiving objects: 100% (322/322), 11.71 MiB | 16.70 MiB/s, done.\n",
            "Resolving deltas: 100% (45/45), done.\n"
          ]
        }
      ],
      "source": [
        "!git clone https://github.com/openai/shap-e.git"
      ]
    },
    {
      "cell_type": "code",
      "source": [
        "import sys\n",
        "import torch\n",
        "pyt_version_str=torch.__version__.split(\"+\")[0].replace(\".\", \"\")\n",
        "version_str=\"\".join([\n",
        "    f\"py3{sys.version_info.minor}_cu\",\n",
        "    torch.version.cuda.replace(\".\",\"\"),\n",
        "    f\"_pyt{pyt_version_str}\"\n",
        "])\n",
        "!pip install fvcore iopath\n",
        "!pip install --no-index --no-cache-dir pytorch3d -f https://dl.fbaipublicfiles.com/pytorch3d/packaging/wheels/{version_str}/download.html"
      ],
      "metadata": {
        "id": "R5RVrrVAIgyL",
        "outputId": "0e3ebbae-ba8c-4ccc-99d5-a9a83c268849",
        "colab": {
          "base_uri": "https://localhost:8080/"
        }
      },
      "execution_count": 2,
      "outputs": [
        {
          "output_type": "stream",
          "name": "stdout",
          "text": [
            "Looking in indexes: https://pypi.org/simple, https://us-python.pkg.dev/colab-wheels/public/simple/\n",
            "Collecting fvcore\n",
            "  Downloading fvcore-0.1.5.post20221221.tar.gz (50 kB)\n",
            "\u001b[2K     \u001b[90m━━━━━━━━━━━━━━━━━━━━━━━━━━━━━━━━━━━━━━━━\u001b[0m \u001b[32m50.2/50.2 kB\u001b[0m \u001b[31m7.6 MB/s\u001b[0m eta \u001b[36m0:00:00\u001b[0m\n",
            "\u001b[?25h  Preparing metadata (setup.py) ... \u001b[?25l\u001b[?25hdone\n",
            "Collecting iopath\n",
            "  Downloading iopath-0.1.10.tar.gz (42 kB)\n",
            "\u001b[2K     \u001b[90m━━━━━━━━━━━━━━━━━━━━━━━━━━━━━━━━━━━━━━━━\u001b[0m \u001b[32m42.2/42.2 kB\u001b[0m \u001b[31m5.7 MB/s\u001b[0m eta \u001b[36m0:00:00\u001b[0m\n",
            "\u001b[?25h  Preparing metadata (setup.py) ... \u001b[?25l\u001b[?25hdone\n",
            "Requirement already satisfied: numpy in /usr/local/lib/python3.10/dist-packages (from fvcore) (1.22.4)\n",
            "Collecting yacs>=0.1.6 (from fvcore)\n",
            "  Downloading yacs-0.1.8-py3-none-any.whl (14 kB)\n",
            "Requirement already satisfied: pyyaml>=5.1 in /usr/local/lib/python3.10/dist-packages (from fvcore) (6.0)\n",
            "Requirement already satisfied: tqdm in /usr/local/lib/python3.10/dist-packages (from fvcore) (4.65.0)\n",
            "Requirement already satisfied: termcolor>=1.1 in /usr/local/lib/python3.10/dist-packages (from fvcore) (2.3.0)\n",
            "Requirement already satisfied: Pillow in /usr/local/lib/python3.10/dist-packages (from fvcore) (8.4.0)\n",
            "Requirement already satisfied: tabulate in /usr/local/lib/python3.10/dist-packages (from fvcore) (0.8.10)\n",
            "Requirement already satisfied: typing_extensions in /usr/local/lib/python3.10/dist-packages (from iopath) (4.5.0)\n",
            "Collecting portalocker (from iopath)\n",
            "  Downloading portalocker-2.7.0-py2.py3-none-any.whl (15 kB)\n",
            "Building wheels for collected packages: fvcore, iopath\n",
            "  Building wheel for fvcore (setup.py) ... \u001b[?25l\u001b[?25hdone\n",
            "  Created wheel for fvcore: filename=fvcore-0.1.5.post20221221-py3-none-any.whl size=61405 sha256=996bd006461a2af638194f7361a4d10c02fef4410571d11bf7379f81959666b7\n",
            "  Stored in directory: /root/.cache/pip/wheels/01/c0/af/77c1cf53a1be9e42a52b48e5af2169d40ec2e89f7362489dd0\n",
            "  Building wheel for iopath (setup.py) ... \u001b[?25l\u001b[?25hdone\n",
            "  Created wheel for iopath: filename=iopath-0.1.10-py3-none-any.whl size=31531 sha256=7d6d37cf4eb6c3d6c85dec99325733738b7c5d6fd845812c0f9bba3c5dd00901\n",
            "  Stored in directory: /root/.cache/pip/wheels/9a/a3/b6/ac0fcd1b4ed5cfeb3db92e6a0e476cfd48ed0df92b91080c1d\n",
            "Successfully built fvcore iopath\n",
            "Installing collected packages: yacs, portalocker, iopath, fvcore\n",
            "Successfully installed fvcore-0.1.5.post20221221 iopath-0.1.10 portalocker-2.7.0 yacs-0.1.8\n",
            "Looking in links: https://dl.fbaipublicfiles.com/pytorch3d/packaging/wheels/py310_cu118_pyt200/download.html\n",
            "Collecting pytorch3d\n",
            "  Downloading https://dl.fbaipublicfiles.com/pytorch3d/packaging/wheels/py310_cu118_pyt200/pytorch3d-0.7.3-cp310-cp310-linux_x86_64.whl (20.1 MB)\n",
            "\u001b[2K     \u001b[90m━━━━━━━━━━━━━━━━━━━━━━━━━━━━━━━━━━━━━━━\u001b[0m \u001b[32m20.1/20.1 MB\u001b[0m \u001b[31m175.2 MB/s\u001b[0m eta \u001b[36m0:00:00\u001b[0m\n",
            "\u001b[?25hRequirement already satisfied: fvcore in /usr/local/lib/python3.10/dist-packages (from pytorch3d) (0.1.5.post20221221)\n",
            "Requirement already satisfied: iopath in /usr/local/lib/python3.10/dist-packages (from pytorch3d) (0.1.10)\n",
            "Requirement already satisfied: numpy in /usr/local/lib/python3.10/dist-packages (from fvcore->pytorch3d) (1.22.4)\n",
            "Requirement already satisfied: yacs>=0.1.6 in /usr/local/lib/python3.10/dist-packages (from fvcore->pytorch3d) (0.1.8)\n",
            "Requirement already satisfied: pyyaml>=5.1 in /usr/local/lib/python3.10/dist-packages (from fvcore->pytorch3d) (6.0)\n",
            "Requirement already satisfied: tqdm in /usr/local/lib/python3.10/dist-packages (from fvcore->pytorch3d) (4.65.0)\n",
            "Requirement already satisfied: termcolor>=1.1 in /usr/local/lib/python3.10/dist-packages (from fvcore->pytorch3d) (2.3.0)\n",
            "Requirement already satisfied: Pillow in /usr/local/lib/python3.10/dist-packages (from fvcore->pytorch3d) (8.4.0)\n",
            "Requirement already satisfied: tabulate in /usr/local/lib/python3.10/dist-packages (from fvcore->pytorch3d) (0.8.10)\n",
            "Requirement already satisfied: typing-extensions in /usr/local/lib/python3.10/dist-packages (from iopath->pytorch3d) (4.5.0)\n",
            "Requirement already satisfied: portalocker in /usr/local/lib/python3.10/dist-packages (from iopath->pytorch3d) (2.7.0)\n",
            "Installing collected packages: pytorch3d\n",
            "Successfully installed pytorch3d-0.7.3\n"
          ]
        }
      ]
    },
    {
      "cell_type": "code",
      "source": [
        "%ls"
      ],
      "metadata": {
        "colab": {
          "base_uri": "https://localhost:8080/"
        },
        "id": "QDcvTxmf51dA",
        "outputId": "35b0e5cb-2a5a-44ab-dfde-32473043680e"
      },
      "execution_count": 3,
      "outputs": [
        {
          "output_type": "stream",
          "name": "stdout",
          "text": [
            "\u001b[0m\u001b[01;34msample_data\u001b[0m/  \u001b[01;34mshap-e\u001b[0m/\n"
          ]
        }
      ]
    },
    {
      "cell_type": "code",
      "source": [
        "%cd shap-e/\n"
      ],
      "metadata": {
        "colab": {
          "base_uri": "https://localhost:8080/"
        },
        "id": "4hLW6i6t54Ha",
        "outputId": "34abd018-4703-4bc1-ad70-42a756fc2d53"
      },
      "execution_count": 4,
      "outputs": [
        {
          "output_type": "stream",
          "name": "stdout",
          "text": [
            "/content/shap-e\n"
          ]
        }
      ]
    },
    {
      "cell_type": "code",
      "source": [
        "!pip install -e ."
      ],
      "metadata": {
        "colab": {
          "base_uri": "https://localhost:8080/"
        },
        "id": "Zs84URv55-sj",
        "outputId": "8921aa8f-9c45-43a9-a009-b88515696af0"
      },
      "execution_count": 5,
      "outputs": [
        {
          "output_type": "stream",
          "name": "stdout",
          "text": [
            "Looking in indexes: https://pypi.org/simple, https://us-python.pkg.dev/colab-wheels/public/simple/\n",
            "Obtaining file:///content/shap-e\n",
            "  Preparing metadata (setup.py) ... \u001b[?25l\u001b[?25hdone\n",
            "Collecting clip@ git+https://github.com/openai/CLIP.git (from shap-e==0.0.0)\n",
            "  Cloning https://github.com/openai/CLIP.git to /tmp/pip-install-ijs8yguw/clip_59d2b5915a0e485b9fc408e7b8a54c56\n",
            "  Running command git clone --filter=blob:none --quiet https://github.com/openai/CLIP.git /tmp/pip-install-ijs8yguw/clip_59d2b5915a0e485b9fc408e7b8a54c56\n",
            "  Resolved https://github.com/openai/CLIP.git to commit a9b1bf5920416aaeaec965c25dd9e8f98c864f16\n",
            "  Preparing metadata (setup.py) ... \u001b[?25l\u001b[?25hdone\n",
            "Requirement already satisfied: filelock in /usr/local/lib/python3.10/dist-packages (from shap-e==0.0.0) (3.12.0)\n",
            "Requirement already satisfied: Pillow in /usr/local/lib/python3.10/dist-packages (from shap-e==0.0.0) (8.4.0)\n",
            "Requirement already satisfied: torch in /usr/local/lib/python3.10/dist-packages (from shap-e==0.0.0) (2.0.0+cu118)\n",
            "Collecting fire (from shap-e==0.0.0)\n",
            "  Downloading fire-0.5.0.tar.gz (88 kB)\n",
            "\u001b[2K     \u001b[90m━━━━━━━━━━━━━━━━━━━━━━━━━━━━━━━━━━━━━━━━\u001b[0m \u001b[32m88.3/88.3 kB\u001b[0m \u001b[31m9.0 MB/s\u001b[0m eta \u001b[36m0:00:00\u001b[0m\n",
            "\u001b[?25h  Preparing metadata (setup.py) ... \u001b[?25l\u001b[?25hdone\n",
            "Requirement already satisfied: humanize in /usr/local/lib/python3.10/dist-packages (from shap-e==0.0.0) (4.6.0)\n",
            "Requirement already satisfied: requests in /usr/local/lib/python3.10/dist-packages (from shap-e==0.0.0) (2.27.1)\n",
            "Requirement already satisfied: tqdm in /usr/local/lib/python3.10/dist-packages (from shap-e==0.0.0) (4.65.0)\n",
            "Requirement already satisfied: matplotlib in /usr/local/lib/python3.10/dist-packages (from shap-e==0.0.0) (3.7.1)\n",
            "Requirement already satisfied: scikit-image in /usr/local/lib/python3.10/dist-packages (from shap-e==0.0.0) (0.19.3)\n",
            "Requirement already satisfied: scipy in /usr/local/lib/python3.10/dist-packages (from shap-e==0.0.0) (1.10.1)\n",
            "Requirement already satisfied: numpy in /usr/local/lib/python3.10/dist-packages (from shap-e==0.0.0) (1.22.4)\n",
            "Collecting blobfile (from shap-e==0.0.0)\n",
            "  Downloading blobfile-2.0.2-py3-none-any.whl (74 kB)\n",
            "\u001b[2K     \u001b[90m━━━━━━━━━━━━━━━━━━━━━━━━━━━━━━━━━━━━━━━━\u001b[0m \u001b[32m74.5/74.5 kB\u001b[0m \u001b[31m11.8 MB/s\u001b[0m eta \u001b[36m0:00:00\u001b[0m\n",
            "\u001b[?25hCollecting pycryptodomex~=3.8 (from blobfile->shap-e==0.0.0)\n",
            "  Downloading pycryptodomex-3.17-cp35-abi3-manylinux_2_17_x86_64.manylinux2014_x86_64.whl (2.1 MB)\n",
            "\u001b[2K     \u001b[90m━━━━━━━━━━━━━━━━━━━━━━━━━━━━━━━━━━━━━━━━\u001b[0m \u001b[32m2.1/2.1 MB\u001b[0m \u001b[31m100.4 MB/s\u001b[0m eta \u001b[36m0:00:00\u001b[0m\n",
            "\u001b[?25hRequirement already satisfied: urllib3<3,>=1.25.3 in /usr/local/lib/python3.10/dist-packages (from blobfile->shap-e==0.0.0) (1.26.15)\n",
            "Requirement already satisfied: lxml~=4.9 in /usr/local/lib/python3.10/dist-packages (from blobfile->shap-e==0.0.0) (4.9.2)\n",
            "Collecting ftfy (from clip@ git+https://github.com/openai/CLIP.git->shap-e==0.0.0)\n",
            "  Downloading ftfy-6.1.1-py3-none-any.whl (53 kB)\n",
            "\u001b[2K     \u001b[90m━━━━━━━━━━━━━━━━━━━━━━━━━━━━━━━━━━━━━━━━\u001b[0m \u001b[32m53.1/53.1 kB\u001b[0m \u001b[31m8.2 MB/s\u001b[0m eta \u001b[36m0:00:00\u001b[0m\n",
            "\u001b[?25hRequirement already satisfied: regex in /usr/local/lib/python3.10/dist-packages (from clip@ git+https://github.com/openai/CLIP.git->shap-e==0.0.0) (2022.10.31)\n",
            "Requirement already satisfied: torchvision in /usr/local/lib/python3.10/dist-packages (from clip@ git+https://github.com/openai/CLIP.git->shap-e==0.0.0) (0.15.1+cu118)\n",
            "Requirement already satisfied: six in /usr/local/lib/python3.10/dist-packages (from fire->shap-e==0.0.0) (1.16.0)\n",
            "Requirement already satisfied: termcolor in /usr/local/lib/python3.10/dist-packages (from fire->shap-e==0.0.0) (2.3.0)\n",
            "Requirement already satisfied: contourpy>=1.0.1 in /usr/local/lib/python3.10/dist-packages (from matplotlib->shap-e==0.0.0) (1.0.7)\n",
            "Requirement already satisfied: cycler>=0.10 in /usr/local/lib/python3.10/dist-packages (from matplotlib->shap-e==0.0.0) (0.11.0)\n",
            "Requirement already satisfied: fonttools>=4.22.0 in /usr/local/lib/python3.10/dist-packages (from matplotlib->shap-e==0.0.0) (4.39.3)\n",
            "Requirement already satisfied: kiwisolver>=1.0.1 in /usr/local/lib/python3.10/dist-packages (from matplotlib->shap-e==0.0.0) (1.4.4)\n",
            "Requirement already satisfied: packaging>=20.0 in /usr/local/lib/python3.10/dist-packages (from matplotlib->shap-e==0.0.0) (23.1)\n",
            "Requirement already satisfied: pyparsing>=2.3.1 in /usr/local/lib/python3.10/dist-packages (from matplotlib->shap-e==0.0.0) (3.0.9)\n",
            "Requirement already satisfied: python-dateutil>=2.7 in /usr/local/lib/python3.10/dist-packages (from matplotlib->shap-e==0.0.0) (2.8.2)\n",
            "Requirement already satisfied: certifi>=2017.4.17 in /usr/local/lib/python3.10/dist-packages (from requests->shap-e==0.0.0) (2022.12.7)\n",
            "Requirement already satisfied: charset-normalizer~=2.0.0 in /usr/local/lib/python3.10/dist-packages (from requests->shap-e==0.0.0) (2.0.12)\n",
            "Requirement already satisfied: idna<4,>=2.5 in /usr/local/lib/python3.10/dist-packages (from requests->shap-e==0.0.0) (3.4)\n",
            "Requirement already satisfied: networkx>=2.2 in /usr/local/lib/python3.10/dist-packages (from scikit-image->shap-e==0.0.0) (3.1)\n",
            "Requirement already satisfied: imageio>=2.4.1 in /usr/local/lib/python3.10/dist-packages (from scikit-image->shap-e==0.0.0) (2.25.1)\n",
            "Requirement already satisfied: tifffile>=2019.7.26 in /usr/local/lib/python3.10/dist-packages (from scikit-image->shap-e==0.0.0) (2023.4.12)\n",
            "Requirement already satisfied: PyWavelets>=1.1.1 in /usr/local/lib/python3.10/dist-packages (from scikit-image->shap-e==0.0.0) (1.4.1)\n",
            "Requirement already satisfied: typing-extensions in /usr/local/lib/python3.10/dist-packages (from torch->shap-e==0.0.0) (4.5.0)\n",
            "Requirement already satisfied: sympy in /usr/local/lib/python3.10/dist-packages (from torch->shap-e==0.0.0) (1.11.1)\n",
            "Requirement already satisfied: jinja2 in /usr/local/lib/python3.10/dist-packages (from torch->shap-e==0.0.0) (3.1.2)\n",
            "Requirement already satisfied: triton==2.0.0 in /usr/local/lib/python3.10/dist-packages (from torch->shap-e==0.0.0) (2.0.0)\n",
            "Requirement already satisfied: cmake in /usr/local/lib/python3.10/dist-packages (from triton==2.0.0->torch->shap-e==0.0.0) (3.25.2)\n",
            "Requirement already satisfied: lit in /usr/local/lib/python3.10/dist-packages (from triton==2.0.0->torch->shap-e==0.0.0) (16.0.3)\n",
            "Requirement already satisfied: wcwidth>=0.2.5 in /usr/local/lib/python3.10/dist-packages (from ftfy->clip@ git+https://github.com/openai/CLIP.git->shap-e==0.0.0) (0.2.6)\n",
            "Requirement already satisfied: MarkupSafe>=2.0 in /usr/local/lib/python3.10/dist-packages (from jinja2->torch->shap-e==0.0.0) (2.1.2)\n",
            "Requirement already satisfied: mpmath>=0.19 in /usr/local/lib/python3.10/dist-packages (from sympy->torch->shap-e==0.0.0) (1.3.0)\n",
            "Building wheels for collected packages: clip, fire\n",
            "  Building wheel for clip (setup.py) ... \u001b[?25l\u001b[?25hdone\n",
            "  Created wheel for clip: filename=clip-1.0-py3-none-any.whl size=1369370 sha256=206ffc6bbe242f1108b6ce9bc0c9923ee5afcdc98c01ca0c5ead80089beef13a\n",
            "  Stored in directory: /tmp/pip-ephem-wheel-cache-rxbv4mmw/wheels/da/2b/4c/d6691fa9597aac8bb85d2ac13b112deb897d5b50f5ad9a37e4\n",
            "  Building wheel for fire (setup.py) ... \u001b[?25l\u001b[?25hdone\n",
            "  Created wheel for fire: filename=fire-0.5.0-py2.py3-none-any.whl size=116932 sha256=e8cbc6a742185c71cb175db0951b2afdca51b3ac6198ca7aaccb5c18adf22a40\n",
            "  Stored in directory: /root/.cache/pip/wheels/90/d4/f7/9404e5db0116bd4d43e5666eaa3e70ab53723e1e3ea40c9a95\n",
            "Successfully built clip fire\n",
            "Installing collected packages: pycryptodomex, ftfy, fire, blobfile, clip, shap-e\n",
            "  Running setup.py develop for shap-e\n",
            "Successfully installed blobfile-2.0.2 clip-1.0 fire-0.5.0 ftfy-6.1.1 pycryptodomex-3.17 shap-e-0.0.0\n"
          ]
        }
      ]
    },
    {
      "cell_type": "code",
      "source": [
        "import torch\n",
        "\n",
        "from shap_e.diffusion.sample import sample_latents\n",
        "from shap_e.diffusion.gaussian_diffusion import diffusion_from_config\n",
        "from shap_e.models.download import load_model, load_config\n",
        "from shap_e.util.notebooks import create_pan_cameras, decode_latent_images, gif_widget\n",
        "from shap_e.util.image_util import load_image"
      ],
      "metadata": {
        "id": "WtFXdJqW6FlQ"
      },
      "execution_count": null,
      "outputs": []
    },
    {
      "cell_type": "code",
      "source": [
        "device = torch.device('cuda' if torch.cuda.is_available() else 'cpu')\n"
      ],
      "metadata": {
        "id": "HBjZwlgu6NTy"
      },
      "execution_count": null,
      "outputs": []
    },
    {
      "cell_type": "code",
      "source": [
        "xm = load_model('transmitter', device=device)\n",
        "model = load_model('image300M', device=device)\n",
        "diffusion = diffusion_from_config(load_config('diffusion'))"
      ],
      "metadata": {
        "colab": {
          "base_uri": "https://localhost:8080/",
          "height": 98,
          "referenced_widgets": [
            "0b7ea786a2ef4f3eae90be74bcb0998c",
            "0e403dc083454aceb22d76c18d35d81f",
            "274e435a0d5e4eed99091a5d80d6264d",
            "d7ee669360f14b58b4594bbf6d63dde3",
            "f214bf749bd74f4eab31c4072d2d2f38",
            "34f567ab0e6749ccb1de4adcf33c14b7",
            "a2bffddf0d204c2aa23e50930330ab1f",
            "88330a94cab742d6a34f002d192cbd8d",
            "b91aff39ef1e438faff6851b39dc67a5",
            "7837dd8773c84646864417b489a2abf7",
            "0d682c6da6e748cc86c86477fece9b1e",
            "727d082c545649ae931bb568219a8f42",
            "bafab6af85ed4fc491f724474f24e004",
            "a1543eed9dee4dd59923931e994bf49f",
            "7df124fd91d14df7a2f2d00c44bd6a76",
            "711f661fc4644f4f86fdca487a7c3f8f",
            "547ce31f78a447028c97a4bb96c53be3",
            "203215db7cb04f8bb546d6c9f06fff5a",
            "8fb3d6dd3fca4861ab91dd5c684999a3",
            "2c5e2ed272e04a4fad5d1e2735fb917c",
            "fbe85a74b5e44e19ae650a1d4c820c1e",
            "ef1ae409cd5e46e8a878636042f5dc13"
          ]
        },
        "id": "c2-RfwXt6Poc",
        "outputId": "a73d14ac-4474-4626-eda8-75ba81761b5e"
      },
      "execution_count": null,
      "outputs": [
        {
          "output_type": "display_data",
          "data": {
            "text/plain": [
              "  0%|          | 0.00/1.78G [00:00<?, ?iB/s]"
            ],
            "application/vnd.jupyter.widget-view+json": {
              "version_major": 2,
              "version_minor": 0,
              "model_id": "0b7ea786a2ef4f3eae90be74bcb0998c"
            }
          },
          "metadata": {}
        },
        {
          "output_type": "stream",
          "name": "stderr",
          "text": [
            "100%|████████████████████████████████████████| 890M/890M [00:06<00:00, 145MiB/s]\n"
          ]
        },
        {
          "output_type": "display_data",
          "data": {
            "text/plain": [
              "  0%|          | 0.00/1.26G [00:00<?, ?iB/s]"
            ],
            "application/vnd.jupyter.widget-view+json": {
              "version_major": 2,
              "version_minor": 0,
              "model_id": "727d082c545649ae931bb568219a8f42"
            }
          },
          "metadata": {}
        }
      ]
    },
    {
      "cell_type": "code",
      "source": [],
      "metadata": {
        "id": "znQjxzYR7r17"
      },
      "execution_count": null,
      "outputs": []
    },
    {
      "cell_type": "code",
      "source": [
        "batch_size = 10\n",
        "guidance_scale = 3.0\n",
        "\n",
        "# To get the best result, you should remove the background and show only the object of interest to the model.\n",
        "image = load_image(\"/content/5.png\")\n",
        "\n",
        "latents = sample_latents(\n",
        "    batch_size=batch_size,\n",
        "    model=model,\n",
        "    diffusion=diffusion,\n",
        "    guidance_scale=guidance_scale,\n",
        "    model_kwargs=dict(images=[image] * batch_size),\n",
        "    progress=True,\n",
        "    clip_denoised=True,\n",
        "    use_fp16=True,\n",
        "    use_karras=True,\n",
        "    karras_steps=64,\n",
        "    sigma_min=1e-3,\n",
        "    sigma_max=160,\n",
        "    s_churn=0,\n",
        ")"
      ],
      "metadata": {
        "colab": {
          "base_uri": "https://localhost:8080/",
          "height": 49,
          "referenced_widgets": [
            "3b5d13bc3b104ebfb9bb644389fd6399",
            "91b26ce0d0694b68b4218127eefeb6da",
            "3caa5ada4de24c2897b7d21b7f21019c",
            "71d45a9f91384914829001ad107ad60f",
            "6d37d9dba8014345853de01a50dc80e8",
            "b95559a311894ecdb63ac5de90d3ab5b",
            "1b0d296440254f199ae5b90453706c1b",
            "8d6f03ff7ad0491387f3fe77f0beb92c",
            "bf76a4351bc046289a22379a5a6c02a6",
            "3c6cc13758384739831d06d5a96babb2",
            "5f109ef6ee1f47b59cbe6ad05309299b"
          ]
        },
        "id": "bSw5KXd86iKU",
        "outputId": "8d616c02-d119-4ce3-aaa0-7dd50769b917"
      },
      "execution_count": null,
      "outputs": [
        {
          "output_type": "display_data",
          "data": {
            "text/plain": [
              "  0%|          | 0/64 [00:00<?, ?it/s]"
            ],
            "application/vnd.jupyter.widget-view+json": {
              "version_major": 2,
              "version_minor": 0,
              "model_id": "3b5d13bc3b104ebfb9bb644389fd6399"
            }
          },
          "metadata": {}
        }
      ]
    },
    {
      "cell_type": "code",
      "source": [
        "render_mode = 'stf' # you can change this to 'stf' for mesh rendering\n",
        "size = 64 # this is the size of the renders; higher values take longer to render.\n",
        "\n",
        "cameras = create_pan_cameras(size, device)\n",
        "for i, latent in enumerate(latents):\n",
        "    images = decode_latent_images(xm, latent, cameras, rendering_mode=render_mode)\n",
        "    display(gif_widget(images))"
      ],
      "metadata": {
        "colab": {
          "base_uri": "https://localhost:8080/",
          "height": 779,
          "referenced_widgets": [
            "dc7f5fc385284aa59efa19bc60930aa3",
            "7f59ca89649d413b9702380da9c3fe46",
            "d9bafdc5dbef4ffc8cf3073f795e992b",
            "0f8080a8f66345abb4ebac108e8842eb",
            "ea594425518043bb9c19e2cec9dafd27",
            "091c7ca7218e44e987c5aff5b2bc7c80",
            "3a2de62ea53b4dd2a8bb63c1f7ca4965",
            "0fef14f6baa64b5d8a23b03e22f10cb7",
            "3b56c85384c54d3da9db5b9bdc740133",
            "2cfa77e6dd0a45c88a770259afba0e0c",
            "af5647e4b19a4cb0b6ca21350121ca55",
            "4d8d50996d094691afb5e94a8da502a9",
            "a3a30835c1014c4db505d80d235db461",
            "8769453ce89e4601be740238486303ee",
            "7b4d661dd8dd47d6a4eca69d42721a35",
            "02525df665d649a7b52e64639fa7fa22",
            "e13649555e0b420d8b7e5894cca7c816",
            "70a4661e48db4defa0aeef0c63171a15",
            "8f3d0ab7d32e401cab65046eb2295112",
            "286c923ba16b4b559628ec3d5929e4bd",
            "ba5155cb82f44af488f64353e527a53b",
            "a8e277fde1f94aa5baeaa7c8b88b2ac7",
            "2ce2ed21205940e48873f4e75027a52f",
            "0620db2f9ca743bf9b96dd6c66ffa0de",
            "448b7c09ebff40b2b13f469467855eea",
            "2a4e954955d140809da4ef7ca3302184",
            "f52f08fa19c24041a7e0ba411c20bc59",
            "02a008397c894022bf04e76d98476a75",
            "6b80f557b9084dc69347b045ef0ea5c3",
            "d0900984e44a4aaeb00686cb9721ac55"
          ]
        },
        "id": "gUkZg9Wc9b9c",
        "outputId": "81926af8-ef41-40d9-beea-7237156f4f18"
      },
      "execution_count": null,
      "outputs": [
        {
          "output_type": "display_data",
          "data": {
            "text/plain": [
              "HTML(value='<img src=\"data:image/gif;base64,R0lGODlhQABAAIQAAAAAADMAAAAzADMzAAAAMzMAMwAzMzMzM2YzMzNmM2ZmMwAzZj…"
            ],
            "application/vnd.jupyter.widget-view+json": {
              "version_major": 2,
              "version_minor": 0,
              "model_id": "dc7f5fc385284aa59efa19bc60930aa3"
            }
          },
          "metadata": {}
        },
        {
          "output_type": "display_data",
          "data": {
            "text/plain": [
              "HTML(value='<img src=\"data:image/gif;base64,R0lGODlhQABAAIQAAAAAADMAAAAzADMzAAAAMzMAMwAzMzMzM2YzMzNmM2ZmMwAzZj…"
            ],
            "application/vnd.jupyter.widget-view+json": {
              "version_major": 2,
              "version_minor": 0,
              "model_id": "0f8080a8f66345abb4ebac108e8842eb"
            }
          },
          "metadata": {}
        },
        {
          "output_type": "display_data",
          "data": {
            "text/plain": [
              "HTML(value='<img src=\"data:image/gif;base64,R0lGODlhQABAAIMAAAAAADMAAAAzADMzAAAAMzMAMwAzMzMzMwBmMzNmM2ZmMwAzZj…"
            ],
            "application/vnd.jupyter.widget-view+json": {
              "version_major": 2,
              "version_minor": 0,
              "model_id": "3a2de62ea53b4dd2a8bb63c1f7ca4965"
            }
          },
          "metadata": {}
        },
        {
          "output_type": "display_data",
          "data": {
            "text/plain": [
              "HTML(value='<img src=\"data:image/gif;base64,R0lGODlhQABAAIMAAAAAADMAAAAzADMzAAAAMzMAMwAzMzMzM2YzM2ZmMzMzZmYzZj…"
            ],
            "application/vnd.jupyter.widget-view+json": {
              "version_major": 2,
              "version_minor": 0,
              "model_id": "2cfa77e6dd0a45c88a770259afba0e0c"
            }
          },
          "metadata": {}
        },
        {
          "output_type": "display_data",
          "data": {
            "text/plain": [
              "HTML(value='<img src=\"data:image/gif;base64,R0lGODlhQABAAIQAAAAAADMAAAAzADMzAAAAMzMAMwAzMzMzM2ZmMwAzZjMzZmYzZj…"
            ],
            "application/vnd.jupyter.widget-view+json": {
              "version_major": 2,
              "version_minor": 0,
              "model_id": "a3a30835c1014c4db505d80d235db461"
            }
          },
          "metadata": {}
        },
        {
          "output_type": "display_data",
          "data": {
            "text/plain": [
              "HTML(value='<img src=\"data:image/gif;base64,R0lGODlhQABAAIQAAAAAADMAAAAzADMzAAAAMzMAMwAzMzMzMzNmM2ZmMwAzZjMzZm…"
            ],
            "application/vnd.jupyter.widget-view+json": {
              "version_major": 2,
              "version_minor": 0,
              "model_id": "02525df665d649a7b52e64639fa7fa22"
            }
          },
          "metadata": {}
        },
        {
          "output_type": "display_data",
          "data": {
            "text/plain": [
              "HTML(value='<img src=\"data:image/gif;base64,R0lGODlhQABAAIQAAAAAADMAAAAzADMzAAAAMzMAMwAzMzMzMzNmM2ZmMzMzZmYzZj…"
            ],
            "application/vnd.jupyter.widget-view+json": {
              "version_major": 2,
              "version_minor": 0,
              "model_id": "8f3d0ab7d32e401cab65046eb2295112"
            }
          },
          "metadata": {}
        },
        {
          "output_type": "display_data",
          "data": {
            "text/plain": [
              "HTML(value='<img src=\"data:image/gif;base64,R0lGODlhQABAAIMAAAAAADMAAAAzADMzAAAAMzMAMwAzMzMzM2ZmMzMzZmYzZjNmZm…"
            ],
            "application/vnd.jupyter.widget-view+json": {
              "version_major": 2,
              "version_minor": 0,
              "model_id": "a8e277fde1f94aa5baeaa7c8b88b2ac7"
            }
          },
          "metadata": {}
        },
        {
          "output_type": "display_data",
          "data": {
            "text/plain": [
              "HTML(value='<img src=\"data:image/gif;base64,R0lGODlhQABAAIMAAAAAADMAAAAzADMzAAAAMzMAMwAzMzMzMzNmM2ZmMzMzZmYzZj…"
            ],
            "application/vnd.jupyter.widget-view+json": {
              "version_major": 2,
              "version_minor": 0,
              "model_id": "448b7c09ebff40b2b13f469467855eea"
            }
          },
          "metadata": {}
        },
        {
          "output_type": "display_data",
          "data": {
            "text/plain": [
              "HTML(value='<img src=\"data:image/gif;base64,R0lGODlhQABAAIQAAAAAADMAAAAzADMzAAAAMzMAMwAzMzMzM2YzMzNmM2ZmMzMzZm…"
            ],
            "application/vnd.jupyter.widget-view+json": {
              "version_major": 2,
              "version_minor": 0,
              "model_id": "02a008397c894022bf04e76d98476a75"
            }
          },
          "metadata": {}
        }
      ]
    },
    {
      "cell_type": "code",
      "source": [
        "cameras"
      ],
      "metadata": {
        "id": "vsz2CQt1A4XQ"
      },
      "execution_count": null,
      "outputs": []
    },
    {
      "cell_type": "code",
      "source": [
        "gif_widget(images)"
      ],
      "metadata": {
        "colab": {
          "base_uri": "https://localhost:8080/",
          "height": 95,
          "referenced_widgets": [
            "a8ef78a55b1b44858cafaae84f6f16b0",
            "23b31f9191a54179afeea16f874067d2",
            "8597c6b481e9415d9b64760b272b9e35"
          ]
        },
        "id": "kfcM7FIMAx5k",
        "outputId": "9f8e1843-a60b-4463-ad4c-4a501704da96"
      },
      "execution_count": null,
      "outputs": [
        {
          "output_type": "display_data",
          "data": {
            "text/plain": [
              "HTML(value='<img src=\"data:image/gif;base64,R0lGODlhQABAAIQAAAAAADMAAGYzAJkzAGZmAJlmAMxmAMyZADMzM5lmM8xmM8yZM2…"
            ],
            "application/vnd.jupyter.widget-view+json": {
              "version_major": 2,
              "version_minor": 0,
              "model_id": "a8ef78a55b1b44858cafaae84f6f16b0"
            }
          },
          "metadata": {}
        }
      ]
    },
    {
      "cell_type": "code",
      "source": [
        "#/content/shap-e/shap_e/examples/example_data/corgi.png"
      ],
      "metadata": {
        "id": "j_c-7XQg-24L"
      },
      "execution_count": null,
      "outputs": []
    },
    {
      "cell_type": "code",
      "source": [
        "%cd /content/"
      ],
      "metadata": {
        "colab": {
          "base_uri": "https://localhost:8080/"
        },
        "id": "5zhK8oxoEF1g",
        "outputId": "0816dbb3-ad28-45e8-df8e-51b7ec44eda4"
      },
      "execution_count": null,
      "outputs": [
        {
          "output_type": "stream",
          "name": "stdout",
          "text": [
            "/content\n"
          ]
        }
      ]
    },
    {
      "cell_type": "code",
      "source": [
        "import os\n",
        "os.mkdir(\"/content/res\")"
      ],
      "metadata": {
        "id": "vVTrIISYJu-E"
      },
      "execution_count": null,
      "outputs": []
    },
    {
      "cell_type": "code",
      "source": [
        "%cd res"
      ],
      "metadata": {
        "colab": {
          "base_uri": "https://localhost:8080/"
        },
        "id": "MW92453gKBHY",
        "outputId": "dc45193c-ac6e-49c2-d620-223e006f9b49"
      },
      "execution_count": null,
      "outputs": [
        {
          "output_type": "stream",
          "name": "stdout",
          "text": [
            "/content/res\n"
          ]
        }
      ]
    },
    {
      "cell_type": "code",
      "source": [
        "# Example of saving the latents as meshes.\n",
        "from shap_e.util.notebooks import decode_latent_mesh\n",
        "\n",
        "for i, latent in enumerate(latents):\n",
        "    t = decode_latent_mesh(xm, latent).tri_mesh()\n",
        "    with open(f'example_mesh_{i}.ply', 'wb') as f:\n",
        "        t.write_ply(f)\n",
        "    with open(f'example_mesh_{i}.obj', 'w') as f:\n",
        "        t.write_obj(f)"
      ],
      "metadata": {
        "id": "SAVTazmACZG1"
      },
      "execution_count": null,
      "outputs": []
    },
    {
      "cell_type": "code",
      "source": [
        "import sys\n",
        "import torch\n",
        "pyt_version_str=torch.__version__.split(\"+\")[0].replace(\".\", \"\")\n",
        "version_str=\"\".join([\n",
        "    f\"py3{sys.version_info.minor}_cu\",\n",
        "    torch.version.cuda.replace(\".\",\"\"),\n",
        "    f\"_pyt{pyt_version_str}\"\n",
        "])\n",
        "!pip install fvcore iopath\n",
        "!pip install --no-index --no-cache-dir pytorch3d -f https://dl.fbaipublicfiles.com/pytorch3d/packaging/wheels/{version_str}/download.html"
      ],
      "metadata": {
        "id": "TvRlspbOEnCY"
      },
      "execution_count": null,
      "outputs": []
    }
  ]
}